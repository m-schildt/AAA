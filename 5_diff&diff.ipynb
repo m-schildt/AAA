{
 "cells": [
  {
   "cell_type": "code",
   "execution_count": 1,
   "metadata": {},
   "outputs": [],
   "source": [
    "import pandas as pd\n",
    "import numpy as np\n",
    "pd.options.mode.chained_assignment = None  # default='warn'"
   ]
  },
  {
   "attachments": {},
   "cell_type": "markdown",
   "metadata": {},
   "source": [
    "load data"
   ]
  },
  {
   "cell_type": "code",
   "execution_count": 174,
   "metadata": {},
   "outputs": [],
   "source": [
    "merged_df = pd.read_csv('data/main/data_set.csv')"
   ]
  },
  {
   "cell_type": "code",
   "execution_count": null,
   "metadata": {},
   "outputs": [],
   "source": [
    "list(merged_df.columns)"
   ]
  },
  {
   "attachments": {},
   "cell_type": "markdown",
   "metadata": {},
   "source": [
    "rename for ols formular"
   ]
  },
  {
   "cell_type": "code",
   "execution_count": 175,
   "metadata": {},
   "outputs": [],
   "source": [
    "merged_df = merged_df.rename(columns={'debt/equity_ratio_2019' : 'debtxtoxequity_ratio_2019', \n",
    "                                        'debt/asset_ratio_2019' : 'debtxtoxassest_ratio_2019',\n",
    "                                        'debt/equity_ratio_2020' : 'debtxtoxequity_ratio_2020', \n",
    "                                        'debt/asset_ratio_2020' : 'debtxtoxassest_ratio_2020',\n",
    "                                        'debt/equity_ratio_2021' : 'debtxtoxequity_ratio_2021', \n",
    "                                        'debt/asset_ratio_2021' : 'debtxtoxassest_ratio_2021',\n",
    "                                        })"
   ]
  },
  {
   "cell_type": "code",
   "execution_count": 176,
   "metadata": {},
   "outputs": [],
   "source": [
    "ratios = ['cash_ratio','quick_ratio','current_ratio','debtxtoxequity_ratio','equity_ratio','debtxtoxassest_ratio']\n",
    "types = ['aid_grant','aid_loan']\n",
    "results_dict = {}"
   ]
  },
  {
   "cell_type": "code",
   "execution_count": 259,
   "metadata": {},
   "outputs": [],
   "source": [
    "#loop over year\n",
    "for year in [2020,2021]:\n",
    "\n",
    "    for id, type in enumerate(types, start=1):\n",
    "        type_inverse_year = types[id-2] + '_' + str(year)\n",
    "        type_year = type + '_' + str(year)\n",
    "        data_unconfounded = merged_df[merged_df[type_inverse_year].isnull()]\n",
    "\n",
    "        #loop over ratio\n",
    "        if year == 2021: # Remove companies that received other aid due to possible confounding\n",
    "                data_unconfounded = data_unconfounded[data_unconfounded[('aid_grant'+'_'+ str(year-1))].isnull()] ###\n",
    "                data_unconfounded = data_unconfounded[data_unconfounded[('aid_loan'+'_'+ str(year-1))].isnull()] ###\n",
    "        \n",
    "        results = {}\n",
    "        \n",
    "\n",
    "        for ratio in ratios:\n",
    "            \n",
    "\n",
    "            ratio_year_prior = ratio + '_' + str(year-1)\n",
    "            ratio_year = ratio + '_' + str(year)\n",
    "\n",
    "            data_dd = data_unconfounded[[ratio_year_prior , ratio_year, type_year]]\n",
    "            data_dd['treatment_group'] = np.where(data_dd[type_year].isna() , 0, 1)\n",
    "            data_dd = data_dd.drop(type_year, axis=1)\n",
    "            data_dd.replace([np.inf, -np.inf], np.nan, inplace=True)\n",
    "            data_dd = data_dd.dropna()\n",
    "\n",
    "            # data before the treatment\n",
    "            df_before = data_dd[[ratio_year_prior, 'treatment_group']]\n",
    "            df_before['t'] = 0\n",
    "            df_before.columns = [ratio, 'treatment_group', 'time']\n",
    "\n",
    "            # data after the treatment\n",
    "            df_after = data_dd[[ratio_year, 'treatment_group']]\n",
    "            df_after['t'] = 1\n",
    "            df_after.columns = [ratio, 'treatment_group', 'time']\n",
    "\n",
    "            # data for regression\n",
    "            df_reg = pd.concat([df_before, df_after])\n",
    "\n",
    "            # create the interaction \n",
    "            df_reg['interaction'] = df_reg.treatment_group * df_reg.time\n",
    "\n",
    "            # drop extrem outliers\n",
    "            df_reg = df_reg[df_reg[ratio] > 0 ]\n",
    "            df_reg = df_reg.drop(df_reg[df_reg[ratio] > df_reg[ratio].quantile(.95)].index)\n",
    "            \n",
    "\n",
    "            from statsmodels.formula.api import ols\n",
    "\n",
    "            formular = ratio + ' ~ treatment_group + time + interaction' \n",
    "            ols = ols(formular, data=df_reg).fit()\n",
    "\n",
    "            cov = ols.params['interaction'].round(4)\n",
    "            pv =  ols.pvalues['interaction'].round(3)\n",
    "            \n",
    "            \n",
    "            if pv > 0.1:\n",
    "                cov = str(cov)+'  '\n",
    "            elif pv < 0.01:\n",
    "                cov = str(cov)+'***'\n",
    "            elif pv < 0.05:\n",
    "                cov = str(cov)+'** '  \n",
    "            elif pv < 0.01:\n",
    "                 cov = str(cov)+'*  '\n",
    "            elif pv > 0.1:\n",
    "                 cov = str(cov)+'  '\n",
    "\n",
    "            pv = (\"%.3f\" % pv)           \n",
    "            pv = \"(\"+str(pv)+\")\"\n",
    "\n",
    "            ratio = ratio.replace(\"_\", \" \").replace(\"x\", \" \")\n",
    "            results[ratio] = ' '.join((str(cov),pv))\n",
    "\n",
    "        results_dict[type_year] = results"
   ]
  },
  {
   "attachments": {},
   "cell_type": "markdown",
   "metadata": {},
   "source": [
    "format output"
   ]
  },
  {
   "cell_type": "code",
   "execution_count": 257,
   "metadata": {},
   "outputs": [
    {
     "data": {
      "text/html": [
       "<div>\n",
       "<style scoped>\n",
       "    .dataframe tbody tr th:only-of-type {\n",
       "        vertical-align: middle;\n",
       "    }\n",
       "\n",
       "    .dataframe tbody tr th {\n",
       "        vertical-align: top;\n",
       "    }\n",
       "\n",
       "    .dataframe thead th {\n",
       "        text-align: right;\n",
       "    }\n",
       "</style>\n",
       "<table border=\"1\" class=\"dataframe\">\n",
       "  <thead>\n",
       "    <tr style=\"text-align: right;\">\n",
       "      <th></th>\n",
       "      <th></th>\n",
       "      <th>cash ratio</th>\n",
       "      <th>quick ratio</th>\n",
       "      <th>current ratio</th>\n",
       "      <th>debt to equity ratio</th>\n",
       "      <th>equity ratio</th>\n",
       "      <th>debt to assest ratio</th>\n",
       "    </tr>\n",
       "    <tr>\n",
       "      <th>year</th>\n",
       "      <th>ratio</th>\n",
       "      <th></th>\n",
       "      <th></th>\n",
       "      <th></th>\n",
       "      <th></th>\n",
       "      <th></th>\n",
       "      <th></th>\n",
       "    </tr>\n",
       "  </thead>\n",
       "  <tbody>\n",
       "    <tr>\n",
       "      <th rowspan=\"2\" valign=\"top\">2020</th>\n",
       "      <th>grant</th>\n",
       "      <td>-0.006   (0.521)</td>\n",
       "      <td>-0.0871   (0.457)</td>\n",
       "      <td>-0.1636   (0.204)</td>\n",
       "      <td>0.5661**  (0.041)</td>\n",
       "      <td>-0.0095   (0.497)</td>\n",
       "      <td>0.0366**  (0.024)</td>\n",
       "    </tr>\n",
       "    <tr>\n",
       "      <th>loan</th>\n",
       "      <td>0.065*** (0.000)</td>\n",
       "      <td>0.0905**  (0.029)</td>\n",
       "      <td>0.1518*** (0.001)</td>\n",
       "      <td>1.0924*** (0.000)</td>\n",
       "      <td>-0.0575*** (0.000)</td>\n",
       "      <td>0.0764*** (0.000)</td>\n",
       "    </tr>\n",
       "    <tr>\n",
       "      <th rowspan=\"2\" valign=\"top\">2021</th>\n",
       "      <th>grant</th>\n",
       "      <td>0.093*** (0.000)</td>\n",
       "      <td>0.0357   (0.853)</td>\n",
       "      <td>-0.0279   (0.895)</td>\n",
       "      <td>-0.3862   (0.126)</td>\n",
       "      <td>0.0136   (0.405)</td>\n",
       "      <td>-0.0319 (0.083)</td>\n",
       "    </tr>\n",
       "    <tr>\n",
       "      <th>loan</th>\n",
       "      <td>0.0388*** (0.000)</td>\n",
       "      <td>0.2039 (0.094)</td>\n",
       "      <td>0.2657 (0.072)</td>\n",
       "      <td>0.7023 (0.070)</td>\n",
       "      <td>-0.0453*** (0.002)</td>\n",
       "      <td>0.0558*** (0.002)</td>\n",
       "    </tr>\n",
       "  </tbody>\n",
       "</table>\n",
       "</div>"
      ],
      "text/plain": [
       "                   cash ratio        quick ratio      current ratio  \\\n",
       "year ratio                                                            \n",
       "2020 grant   -0.006   (0.521)  -0.0871   (0.457)  -0.1636   (0.204)   \n",
       "     loan    0.065*** (0.000)  0.0905**  (0.029)  0.1518*** (0.001)   \n",
       "2021 grant   0.093*** (0.000)   0.0357   (0.853)  -0.0279   (0.895)   \n",
       "     loan   0.0388*** (0.000)     0.2039 (0.094)     0.2657 (0.072)   \n",
       "\n",
       "           debt to equity ratio        equity ratio debt to assest ratio  \n",
       "year ratio                                                                \n",
       "2020 grant    0.5661**  (0.041)   -0.0095   (0.497)    0.0366**  (0.024)  \n",
       "     loan     1.0924*** (0.000)  -0.0575*** (0.000)    0.0764*** (0.000)  \n",
       "2021 grant    -0.3862   (0.126)    0.0136   (0.405)      -0.0319 (0.083)  \n",
       "     loan        0.7023 (0.070)  -0.0453*** (0.002)    0.0558*** (0.002)  "
      ]
     },
     "execution_count": 257,
     "metadata": {},
     "output_type": "execute_result"
    }
   ],
   "source": [
    "df_results = pd.DataFrame.from_dict(results_dict, orient='index')\n",
    "df_results.index.name='aid_ratio_year'\n",
    "df_results.reset_index(inplace=True)\n",
    "new_col = df_results['aid_ratio_year'].str.split('_',expand=True)\n",
    "df_results['ratio'] = new_col[1]\n",
    "df_results['year'] = new_col[2]\n",
    "df_results.drop(columns =[\"aid_ratio_year\"], inplace = True)\n",
    "df_results.set_index(['year', 'ratio'],inplace=True)\n",
    "df_results"
   ]
  },
  {
   "attachments": {},
   "cell_type": "markdown",
   "metadata": {},
   "source": [
    "save data frame to latex"
   ]
  },
  {
   "cell_type": "code",
   "execution_count": 258,
   "metadata": {},
   "outputs": [
    {
     "name": "stderr",
     "output_type": "stream",
     "text": [
      "/var/folders/nr/94zdnpbn2xj3pwc_d9lfk0cw0000gn/T/ipykernel_48019/2811550283.py:2: FutureWarning: In future versions `DataFrame.to_latex` is expected to utilise the base implementation of `Styler.to_latex` for formatting and rendering. The arguments signature may therefore change. It is recommended instead to use `DataFrame.style.to_latex` which also contains additional functionality.\n",
      "  tf.write(df_results.transpose().stack().to_latex(index=True, bold_rows=True, column_format='llrr'))\n"
     ]
    }
   ],
   "source": [
    "with open('/Users/marco/Library/CloudStorage/OneDrive-HertieSchool/Thesis/GitHub/thesis/paper/Tables/table_did.tex', 'w') as tf:\n",
    "     tf.write(df_results.transpose().stack().to_latex(index=True, bold_rows=True, column_format='llrr'))"
   ]
  }
 ],
 "metadata": {
  "kernelspec": {
   "display_name": "Python 3",
   "language": "python",
   "name": "python3"
  },
  "language_info": {
   "codemirror_mode": {
    "name": "ipython",
    "version": 3
   },
   "file_extension": ".py",
   "mimetype": "text/x-python",
   "name": "python",
   "nbconvert_exporter": "python",
   "pygments_lexer": "ipython3",
   "version": "3.9.16"
  },
  "orig_nbformat": 4
 },
 "nbformat": 4,
 "nbformat_minor": 2
}
