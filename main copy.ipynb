{
 "cells": [
  {
   "cell_type": "code",
   "execution_count": 3,
   "metadata": {},
   "outputs": [],
   "source": [
    "import pandas as pd\n",
    "import glob\n",
    "import os\n",
    "\n",
    "path = r'/Users/marco/Library/CloudStorage/OneDrive-HertieSchool/Thesis/GitHub/thesis/data/raw2022' \n",
    "all_files = glob.glob(os.path.join(path , \"*.csv\"))\n",
    "\n",
    "li = []\n",
    "\n",
    "for filename in all_files:\n",
    "    df = pd.read_csv(filename, index_col=None, header=0)\n",
    "    li.append(df)\n",
    "\n",
    "frame = pd.concat(li, axis=0, ignore_index=True)"
   ]
  },
  {
   "cell_type": "code",
   "execution_count": 4,
   "metadata": {},
   "outputs": [
    {
     "data": {
      "text/plain": [
       "(23204, 25)"
      ]
     },
     "execution_count": 4,
     "metadata": {},
     "output_type": "execute_result"
    }
   ],
   "source": [
    "frame = frame[(frame.Land == 'Deutschland')]\n",
    "frame.shape"
   ]
  },
  {
   "cell_type": "code",
   "execution_count": 5,
   "metadata": {},
   "outputs": [],
   "source": [
    "frame = frame[(frame['Ziel der Beihilfe'] == 'Behebung einer beträchtlichen Störung im Wirtschaftsleben eines Mitgliedstaats') ]"
   ]
  },
  {
   "cell_type": "code",
   "execution_count": 62,
   "metadata": {},
   "outputs": [],
   "source": [
    "frame.to_csv(r'/Users/marco/Library/CloudStorage/OneDrive-HertieSchool/Thesis/GitHub/thesis/data/raw/all_companies', index=False, header=True)"
   ]
  },
  {
   "cell_type": "code",
   "execution_count": 6,
   "metadata": {},
   "outputs": [
    {
     "data": {
      "text/plain": [
       "['Land',\n",
       " 'Begünstigter in anderem Mitgliedstaat',\n",
       " 'Titel der Beihilfemaßnahme',\n",
       " 'Titel der Beihilfemaßnahme [EN]',\n",
       " 'SA.Nummer',\n",
       " 'Kennung',\n",
       " 'Nationale Kennung',\n",
       " 'Name des Beihilfeempfängers',\n",
       " 'Name des Beihilfeempfängers [EN]',\n",
       " 'Art des Beihilfeempfängers',\n",
       " 'Region',\n",
       " 'Wirtschaftszweig (NACE)',\n",
       " 'Beihilfeinstrument',\n",
       " 'Beihilfeinstrument [EN]',\n",
       " 'Ziel der Beihilfe',\n",
       " 'Ziel der Beihilfe [EN]',\n",
       " 'Nominalbetrag',\n",
       " 'Beihilfeelement, in voller Höhe',\n",
       " 'Währung',\n",
       " 'Tag der Gewährung',\n",
       " 'Name der Bewilligungsbehörde',\n",
       " 'Name der Bewilligungsbehörde [EN]',\n",
       " 'Veröffentlicht am',\n",
       " 'Betraute Einrichtung',\n",
       " 'Finanzintermediäre']"
      ]
     },
     "execution_count": 6,
     "metadata": {},
     "output_type": "execute_result"
    }
   ],
   "source": [
    "list(frame.columns)"
   ]
  },
  {
   "cell_type": "code",
   "execution_count": 7,
   "metadata": {},
   "outputs": [
    {
     "data": {
      "text/plain": [
       "Ziel der Beihilfe\n",
       "Behebung einer beträchtlichen Störung im Wirtschaftsleben eines Mitgliedstaats    20364\n",
       "Name: Land, dtype: int64"
      ]
     },
     "execution_count": 7,
     "metadata": {},
     "output_type": "execute_result"
    }
   ],
   "source": [
    "frame.groupby('Ziel der Beihilfe').count()['Land'].sort_values(ascending=False).head(15)"
   ]
  },
  {
   "cell_type": "code",
   "execution_count": 8,
   "metadata": {},
   "outputs": [
    {
     "data": {
      "text/plain": [
       "Beihilfeinstrument\n",
       "Zuschuss                                 15206\n",
       "Zinsgünstiges Darlehen                    5039\n",
       "Andere Formen der Kapitalintervention       97\n",
       "Bürgschaft                                  17\n",
       "Eigenkapitalinstrumente                      4\n",
       "Sonstiges (bitte angeben)                    1\n",
       "Name: Land, dtype: int64"
      ]
     },
     "execution_count": 8,
     "metadata": {},
     "output_type": "execute_result"
    }
   ],
   "source": [
    "frame.groupby('Beihilfeinstrument').count()['Land'].sort_values(ascending=False)"
   ]
  },
  {
   "cell_type": "code",
   "execution_count": 9,
   "metadata": {},
   "outputs": [
    {
     "data": {
      "text/plain": [
       "Name der Bewilligungsbehörde\n",
       "Kreditanstalt für Wiederaufbau                                                       5033\n",
       "IHK für München und Oberbayern                                                       4625\n",
       "IBB                                                                                  1857\n",
       "RP Gießen                                                                            1636\n",
       "Bezirksregierung Düsseldorf                                                          1625\n",
       "Bezirksregierung Münster                                                              992\n",
       "Bezirksregierung Arnsberg                                                             703\n",
       "Investitionsbank Schleswig-Holstein                                                   688\n",
       "Bezirksregierung Detmold                                                              468\n",
       "Investitions- und Strukturbank Rheinland-Pfalz                                        466\n",
       "Hamburgische Investitions- und Förderbank                                             429\n",
       "Landesförderinstitut Mecklenburg Vorpommern                                           412\n",
       "Investitionsbank Sachsen-Anhalt                                                       347\n",
       "Investitionsbank des Landes Brandenburg                                               311\n",
       "Thüringer Aufbaubank                                                                  197\n",
       "Bremer Aufbau-Bank GmbH                                                               178\n",
       "Ministerium für Wirtschaft, Arbeit, Energie und Verkehr                               154\n",
       "LfA Förderbank Bayern                                                                  72\n",
       "Bezirksregierung Köln                                                                  69\n",
       "L-Bank Baden-Württemberg                                                               28\n",
       "Regierung von Oberbayern                                                               11\n",
       "Finanzministerium Mecklenburg-Vorpommern                                               11\n",
       "Ministerium für Ländlichen Raum und Verbraucherschutz Baden-Württemberg                10\n",
       "BIS Bremerhavener Gesellschaft für Investitionsförderung und Stadtentwicklung mbH       8\n",
       "Bundesfinanzministerium                                                                 8\n",
       "Landwirtschaftliche Rentenbank                                                          7\n",
       "Regierung von Mittelfranken                                                             5\n",
       "Stadt Stuttgart                                                                         2\n",
       "ÜNB Tennet                                                                              2\n",
       "Integrationsamt Berlin                                                                  1\n",
       "Integrationsamt Baden Württemberg                                                       1\n",
       "Ministerium der Finanzen und für Europa                                                 1\n",
       "Hessisches Ministerium für Wirtschaft, Energie, Verkehr und Wohnen                      1\n",
       "Die Senatorin für Wissenschaft und Haefen, Bremen                                       1\n",
       "Ministerium für Wissenschaft, Forschung und Kultur                                      1\n",
       "Bundesministerium für Verkehr und digitale Infrastruktur                                1\n",
       "Bundesministerium für Bildung und Forschung                                             1\n",
       "Senatsverwaltung für Finanzen                                                           1\n",
       "Stadtwerke Neumünster Beteiligungen GmbH                                                1\n",
       "Name: Land, dtype: int64"
      ]
     },
     "execution_count": 9,
     "metadata": {},
     "output_type": "execute_result"
    }
   ],
   "source": [
    "frame.groupby('Name der Bewilligungsbehörde').count()['Land'].sort_values(ascending=False).head(40)"
   ]
  },
  {
   "cell_type": "code",
   "execution_count": 10,
   "metadata": {},
   "outputs": [],
   "source": [
    "frame[\"Nominalbetrag\"] = frame[\"Nominalbetrag\"].apply(float)\n",
    "frame[\"Beihilfeelement, in voller Höhe\"] = frame[\"Beihilfeelement, in voller Höhe\"].apply(float)\n"
   ]
  },
  {
   "cell_type": "code",
   "execution_count": 11,
   "metadata": {},
   "outputs": [
    {
     "data": {
      "text/plain": [
       "<Axes: xlabel='Tag der Gewährung'>"
      ]
     },
     "execution_count": 11,
     "metadata": {},
     "output_type": "execute_result"
    },
    {
     "data": {
      "image/png": "[encoded data removed]",
      "text/plain": [
       "<Figure size 640x480 with 1 Axes>"
      ]
     },
     "metadata": {},
     "output_type": "display_data"
    }
   ],
   "source": [
    "frame.plot(x=\"Tag der Gewährung\", y=[\"Nominalbetrag\"])"
   ]
  },
  {
   "cell_type": "code",
   "execution_count": 12,
   "metadata": {},
   "outputs": [
    {
     "data": {
      "text/plain": [
       "<Axes: xlabel='Tag der Gewährung'>"
      ]
     },
     "execution_count": 12,
     "metadata": {},
     "output_type": "execute_result"
    },
    {
     "data": {
      "image/png": "[encoded data removed]",
      "text/plain": [
       "<Figure size 640x480 with 1 Axes>"
      ]
     },
     "metadata": {},
     "output_type": "display_data"
    }
   ],
   "source": [
    "\n",
    "frame.plot(x=\"Tag der Gewährung\", y=[\"Beihilfeelement, in voller Höhe\"])"
   ]
  },
  {
   "cell_type": "code",
   "execution_count": 14,
   "metadata": {},
   "outputs": [],
   "source": [
    "frame[\"Tag der Gewährung\"] = pd.to_datetime(frame[\"Tag der Gewährung\"], infer_datetime_format=True)"
   ]
  },
  {
   "cell_type": "code",
   "execution_count": 15,
   "metadata": {},
   "outputs": [
    {
     "data": {
      "text/plain": [
       "<Axes: xlabel='Tag der Gewährung'>"
      ]
     },
     "execution_count": 15,
     "metadata": {},
     "output_type": "execute_result"
    },
    {
     "data": {
      "image/png": "[encoded data removed]",
      "text/plain": [
       "<Figure size 640x480 with 1 Axes>"
      ]
     },
     "metadata": {},
     "output_type": "display_data"
    }
   ],
   "source": [
    "frame.groupby(frame[\"Tag der Gewährung\"].dt.strftime('%m-%y')).agg (total = (\"Beihilfeelement, in voller Höhe\" , 'sum')).plot()"
   ]
  },
  {
   "cell_type": "code",
   "execution_count": 88,
   "metadata": {},
   "outputs": [],
   "source": [
    "frame.to_csv(r'/Users/marco/Library/CloudStorage/OneDrive-HertieSchool/Thesis/GitHub/thesis/data/main/all_companies.csv', index=False, header=True)"
   ]
  },
  {
   "cell_type": "code",
   "execution_count": 16,
   "metadata": {},
   "outputs": [
    {
     "data": {
      "text/html": [
       "<div>\n",
       "<style scoped>\n",
       "    .dataframe tbody tr th:only-of-type {\n",
       "        vertical-align: middle;\n",
       "    }\n",
       "\n",
       "    .dataframe tbody tr th {\n",
       "        vertical-align: top;\n",
       "    }\n",
       "\n",
       "    .dataframe thead th {\n",
       "        text-align: right;\n",
       "    }\n",
       "</style>\n",
       "<table border=\"1\" class=\"dataframe\">\n",
       "  <thead>\n",
       "    <tr style=\"text-align: right;\">\n",
       "      <th></th>\n",
       "      <th>Name des Beihilfeempfängers</th>\n",
       "      <th>Nationale Kennung</th>\n",
       "      <th>Status</th>\n",
       "    </tr>\n",
       "    <tr>\n",
       "      <th>Index</th>\n",
       "      <th></th>\n",
       "      <th></th>\n",
       "      <th></th>\n",
       "    </tr>\n",
       "  </thead>\n",
       "  <tbody>\n",
       "    <tr>\n",
       "      <th>0</th>\n",
       "      <td>Hotel Residenz GmbH &amp; Co KG</td>\n",
       "      <td>DE297338368</td>\n",
       "      <td></td>\n",
       "    </tr>\n",
       "    <tr>\n",
       "      <th>1</th>\n",
       "      <td>Verve GmbH</td>\n",
       "      <td>HRB17519</td>\n",
       "      <td></td>\n",
       "    </tr>\n",
       "    <tr>\n",
       "      <th>2</th>\n",
       "      <td>JP KOM GmbH</td>\n",
       "      <td>DE208324734</td>\n",
       "      <td></td>\n",
       "    </tr>\n",
       "    <tr>\n",
       "      <th>3</th>\n",
       "      <td>SMG Entertainment Deutschland GmbH</td>\n",
       "      <td>DE169783800</td>\n",
       "      <td></td>\n",
       "    </tr>\n",
       "    <tr>\n",
       "      <th>4</th>\n",
       "      <td>KLARTEXT Grafik Messe Event GmbH</td>\n",
       "      <td>DE175516812</td>\n",
       "      <td></td>\n",
       "    </tr>\n",
       "    <tr>\n",
       "      <th>...</th>\n",
       "      <td>...</td>\n",
       "      <td>...</td>\n",
       "      <td>...</td>\n",
       "    </tr>\n",
       "    <tr>\n",
       "      <th>17263</th>\n",
       "      <td>Global Bulk Logistic GmbH</td>\n",
       "      <td>DE814678847</td>\n",
       "      <td></td>\n",
       "    </tr>\n",
       "    <tr>\n",
       "      <th>17264</th>\n",
       "      <td>TRIDELTA Weichferrite GmbH</td>\n",
       "      <td>HRB502785</td>\n",
       "      <td></td>\n",
       "    </tr>\n",
       "    <tr>\n",
       "      <th>17265</th>\n",
       "      <td>Energieanlagen Greifswald GmbH</td>\n",
       "      <td>HRB 20492</td>\n",
       "      <td></td>\n",
       "    </tr>\n",
       "    <tr>\n",
       "      <th>17266</th>\n",
       "      <td>Hotel Gude GmbH &amp; Co. KG</td>\n",
       "      <td>DE282139186</td>\n",
       "      <td></td>\n",
       "    </tr>\n",
       "    <tr>\n",
       "      <th>17267</th>\n",
       "      <td>Tierpark Hotel GmbH</td>\n",
       "      <td>DE183032438</td>\n",
       "      <td></td>\n",
       "    </tr>\n",
       "  </tbody>\n",
       "</table>\n",
       "<p>17268 rows × 3 columns</p>\n",
       "</div>"
      ],
      "text/plain": [
       "              Name des Beihilfeempfängers Nationale Kennung Status\n",
       "Index                                                             \n",
       "0             Hotel Residenz GmbH & Co KG       DE297338368       \n",
       "1                              Verve GmbH          HRB17519       \n",
       "2                             JP KOM GmbH       DE208324734       \n",
       "3      SMG Entertainment Deutschland GmbH       DE169783800       \n",
       "4        KLARTEXT Grafik Messe Event GmbH       DE175516812       \n",
       "...                                   ...               ...    ...\n",
       "17263           Global Bulk Logistic GmbH       DE814678847       \n",
       "17264          TRIDELTA Weichferrite GmbH         HRB502785       \n",
       "17265      Energieanlagen Greifswald GmbH         HRB 20492       \n",
       "17266            Hotel Gude GmbH & Co. KG       DE282139186       \n",
       "17267                 Tierpark Hotel GmbH       DE183032438       \n",
       "\n",
       "[17268 rows x 3 columns]"
      ]
     },
     "execution_count": 16,
     "metadata": {},
     "output_type": "execute_result"
    }
   ],
   "source": [
    "frame = frame[['Name des Beihilfeempfängers','Nationale Kennung']].drop_duplicates()\n",
    "frame = frame.reset_index(drop=True, names='index')\n",
    "frame.index = frame.index.rename('Index')\n",
    "frame['Status'] = ''\n",
    "frame"
   ]
  },
  {
   "cell_type": "code",
   "execution_count": 17,
   "metadata": {},
   "outputs": [],
   "source": [
    "frame.index += 102983 "
   ]
  },
  {
   "cell_type": "code",
   "execution_count": 18,
   "metadata": {},
   "outputs": [
    {
     "data": {
      "text/html": [
       "<div>\n",
       "<style scoped>\n",
       "    .dataframe tbody tr th:only-of-type {\n",
       "        vertical-align: middle;\n",
       "    }\n",
       "\n",
       "    .dataframe tbody tr th {\n",
       "        vertical-align: top;\n",
       "    }\n",
       "\n",
       "    .dataframe thead th {\n",
       "        text-align: right;\n",
       "    }\n",
       "</style>\n",
       "<table border=\"1\" class=\"dataframe\">\n",
       "  <thead>\n",
       "    <tr style=\"text-align: right;\">\n",
       "      <th></th>\n",
       "      <th>Name des Beihilfeempfängers</th>\n",
       "      <th>Nationale Kennung</th>\n",
       "      <th>Status</th>\n",
       "    </tr>\n",
       "    <tr>\n",
       "      <th>Index</th>\n",
       "      <th></th>\n",
       "      <th></th>\n",
       "      <th></th>\n",
       "    </tr>\n",
       "  </thead>\n",
       "  <tbody>\n",
       "    <tr>\n",
       "      <th>102983</th>\n",
       "      <td>Hotel Residenz GmbH &amp; Co KG</td>\n",
       "      <td>DE297338368</td>\n",
       "      <td></td>\n",
       "    </tr>\n",
       "    <tr>\n",
       "      <th>102984</th>\n",
       "      <td>Verve GmbH</td>\n",
       "      <td>HRB17519</td>\n",
       "      <td></td>\n",
       "    </tr>\n",
       "    <tr>\n",
       "      <th>102985</th>\n",
       "      <td>JP KOM GmbH</td>\n",
       "      <td>DE208324734</td>\n",
       "      <td></td>\n",
       "    </tr>\n",
       "    <tr>\n",
       "      <th>102986</th>\n",
       "      <td>SMG Entertainment Deutschland GmbH</td>\n",
       "      <td>DE169783800</td>\n",
       "      <td></td>\n",
       "    </tr>\n",
       "    <tr>\n",
       "      <th>102987</th>\n",
       "      <td>KLARTEXT Grafik Messe Event GmbH</td>\n",
       "      <td>DE175516812</td>\n",
       "      <td></td>\n",
       "    </tr>\n",
       "    <tr>\n",
       "      <th>...</th>\n",
       "      <td>...</td>\n",
       "      <td>...</td>\n",
       "      <td>...</td>\n",
       "    </tr>\n",
       "    <tr>\n",
       "      <th>120246</th>\n",
       "      <td>Global Bulk Logistic GmbH</td>\n",
       "      <td>DE814678847</td>\n",
       "      <td></td>\n",
       "    </tr>\n",
       "    <tr>\n",
       "      <th>120247</th>\n",
       "      <td>TRIDELTA Weichferrite GmbH</td>\n",
       "      <td>HRB502785</td>\n",
       "      <td></td>\n",
       "    </tr>\n",
       "    <tr>\n",
       "      <th>120248</th>\n",
       "      <td>Energieanlagen Greifswald GmbH</td>\n",
       "      <td>HRB 20492</td>\n",
       "      <td></td>\n",
       "    </tr>\n",
       "    <tr>\n",
       "      <th>120249</th>\n",
       "      <td>Hotel Gude GmbH &amp; Co. KG</td>\n",
       "      <td>DE282139186</td>\n",
       "      <td></td>\n",
       "    </tr>\n",
       "    <tr>\n",
       "      <th>120250</th>\n",
       "      <td>Tierpark Hotel GmbH</td>\n",
       "      <td>DE183032438</td>\n",
       "      <td></td>\n",
       "    </tr>\n",
       "  </tbody>\n",
       "</table>\n",
       "<p>17268 rows × 3 columns</p>\n",
       "</div>"
      ],
      "text/plain": [
       "               Name des Beihilfeempfängers Nationale Kennung Status\n",
       "Index                                                              \n",
       "102983         Hotel Residenz GmbH & Co KG       DE297338368       \n",
       "102984                          Verve GmbH          HRB17519       \n",
       "102985                         JP KOM GmbH       DE208324734       \n",
       "102986  SMG Entertainment Deutschland GmbH       DE169783800       \n",
       "102987    KLARTEXT Grafik Messe Event GmbH       DE175516812       \n",
       "...                                    ...               ...    ...\n",
       "120246           Global Bulk Logistic GmbH       DE814678847       \n",
       "120247          TRIDELTA Weichferrite GmbH         HRB502785       \n",
       "120248      Energieanlagen Greifswald GmbH         HRB 20492       \n",
       "120249            Hotel Gude GmbH & Co. KG       DE282139186       \n",
       "120250                 Tierpark Hotel GmbH       DE183032438       \n",
       "\n",
       "[17268 rows x 3 columns]"
      ]
     },
     "execution_count": 18,
     "metadata": {},
     "output_type": "execute_result"
    }
   ],
   "source": [
    "frame"
   ]
  },
  {
   "cell_type": "code",
   "execution_count": 20,
   "metadata": {},
   "outputs": [],
   "source": [
    "frame.to_csv(r'/Users/marco/Library/CloudStorage/OneDrive-HertieSchool/Thesis/GitHub/thesis/data/main/companies2.csv', sep='$' , index=True, header=True)"
   ]
  },
  {
   "cell_type": "code",
   "execution_count": 19,
   "metadata": {},
   "outputs": [
    {
     "data": {
      "text/plain": [
       "(17268, 3)"
      ]
     },
     "execution_count": 19,
     "metadata": {},
     "output_type": "execute_result"
    }
   ],
   "source": [
    "frame.shape"
   ]
  },
  {
   "cell_type": "code",
   "execution_count": 21,
   "metadata": {},
   "outputs": [
    {
     "data": {
      "text/html": [
       "<div>\n",
       "<style scoped>\n",
       "    .dataframe tbody tr th:only-of-type {\n",
       "        vertical-align: middle;\n",
       "    }\n",
       "\n",
       "    .dataframe tbody tr th {\n",
       "        vertical-align: top;\n",
       "    }\n",
       "\n",
       "    .dataframe thead th {\n",
       "        text-align: right;\n",
       "    }\n",
       "</style>\n",
       "<table border=\"1\" class=\"dataframe\">\n",
       "  <thead>\n",
       "    <tr style=\"text-align: right;\">\n",
       "      <th></th>\n",
       "      <th>Index</th>\n",
       "      <th>Name des Beihilfeempfängers</th>\n",
       "      <th>Nationale Kennung</th>\n",
       "      <th>Status</th>\n",
       "    </tr>\n",
       "  </thead>\n",
       "  <tbody>\n",
       "    <tr>\n",
       "      <th>0</th>\n",
       "      <td>0</td>\n",
       "      <td>Eurocaribe Druck und Verlag GnbH</td>\n",
       "      <td>45/719/00411</td>\n",
       "      <td>NaN</td>\n",
       "    </tr>\n",
       "    <tr>\n",
       "      <th>1</th>\n",
       "      <td>1</td>\n",
       "      <td>K-motion GmbH &amp; Co. KG</td>\n",
       "      <td>43/637/00859</td>\n",
       "      <td>NaN</td>\n",
       "    </tr>\n",
       "    <tr>\n",
       "      <th>2</th>\n",
       "      <td>2</td>\n",
       "      <td>Künstlermanagement Uwe Kanthak</td>\n",
       "      <td>48/635/01062</td>\n",
       "      <td>NaN</td>\n",
       "    </tr>\n",
       "    <tr>\n",
       "      <th>3</th>\n",
       "      <td>3</td>\n",
       "      <td>Do it! Sprachreisen OHG</td>\n",
       "      <td>42/613/02646</td>\n",
       "      <td>NaN</td>\n",
       "    </tr>\n",
       "    <tr>\n",
       "      <th>4</th>\n",
       "      <td>4</td>\n",
       "      <td>HCK Holding GmbH</td>\n",
       "      <td>48/747/06065</td>\n",
       "      <td>NaN</td>\n",
       "    </tr>\n",
       "    <tr>\n",
       "      <th>...</th>\n",
       "      <td>...</td>\n",
       "      <td>...</td>\n",
       "      <td>...</td>\n",
       "      <td>...</td>\n",
       "    </tr>\n",
       "    <tr>\n",
       "      <th>102978</th>\n",
       "      <td>102978</td>\n",
       "      <td>Milchproduktion Kreinitz GmbH</td>\n",
       "      <td>Betriebsnummer 6273600025</td>\n",
       "      <td>NaN</td>\n",
       "    </tr>\n",
       "    <tr>\n",
       "      <th>102979</th>\n",
       "      <td>102979</td>\n",
       "      <td>Jürgen Schirra</td>\n",
       "      <td>Betriebsnummer 072351140011</td>\n",
       "      <td>NaN</td>\n",
       "    </tr>\n",
       "    <tr>\n",
       "      <th>102980</th>\n",
       "      <td>102980</td>\n",
       "      <td>Milchproduktion Wildenborn KG</td>\n",
       "      <td>HRA 34143 Stendal</td>\n",
       "      <td>NaN</td>\n",
       "    </tr>\n",
       "    <tr>\n",
       "      <th>102981</th>\n",
       "      <td>102981</td>\n",
       "      <td>a) Weingut Bergdolt-Reif &amp; Nett GmbH&amp;Co.KG</td>\n",
       "      <td>HRA 61393 Ludwigshafen a. Rhein</td>\n",
       "      <td>NaN</td>\n",
       "    </tr>\n",
       "    <tr>\n",
       "      <th>102982</th>\n",
       "      <td>102982</td>\n",
       "      <td>Baumschule Schlangen GmbH &amp; Co. KG</td>\n",
       "      <td>HRA 206538 Oldenburg</td>\n",
       "      <td>NaN</td>\n",
       "    </tr>\n",
       "  </tbody>\n",
       "</table>\n",
       "<p>102983 rows × 4 columns</p>\n",
       "</div>"
      ],
      "text/plain": [
       "         Index                 Name des Beihilfeempfängers  \\\n",
       "0            0            Eurocaribe Druck und Verlag GnbH   \n",
       "1            1                      K-motion GmbH & Co. KG   \n",
       "2            2              Künstlermanagement Uwe Kanthak   \n",
       "3            3                     Do it! Sprachreisen OHG   \n",
       "4            4                            HCK Holding GmbH   \n",
       "...        ...                                         ...   \n",
       "102978  102978               Milchproduktion Kreinitz GmbH   \n",
       "102979  102979                              Jürgen Schirra   \n",
       "102980  102980               Milchproduktion Wildenborn KG   \n",
       "102981  102981  a) Weingut Bergdolt-Reif & Nett GmbH&Co.KG   \n",
       "102982  102982          Baumschule Schlangen GmbH & Co. KG   \n",
       "\n",
       "                      Nationale Kennung  Status  \n",
       "0                          45/719/00411     NaN  \n",
       "1                          43/637/00859     NaN  \n",
       "2                          48/635/01062     NaN  \n",
       "3                          42/613/02646     NaN  \n",
       "4                          48/747/06065     NaN  \n",
       "...                                 ...     ...  \n",
       "102978        Betriebsnummer 6273600025     NaN  \n",
       "102979      Betriebsnummer 072351140011     NaN  \n",
       "102980                HRA 34143 Stendal     NaN  \n",
       "102981  HRA 61393 Ludwigshafen a. Rhein     NaN  \n",
       "102982             HRA 206538 Oldenburg     NaN  \n",
       "\n",
       "[102983 rows x 4 columns]"
      ]
     },
     "execution_count": 21,
     "metadata": {},
     "output_type": "execute_result"
    }
   ],
   "source": [
    "names = pd.read_csv('data/main/companies.csv',sep='$')\n",
    "names"
   ]
  },
  {
   "cell_type": "code",
   "execution_count": 22,
   "metadata": {},
   "outputs": [
    {
     "data": {
      "text/html": [
       "<div>\n",
       "<style scoped>\n",
       "    .dataframe tbody tr th:only-of-type {\n",
       "        vertical-align: middle;\n",
       "    }\n",
       "\n",
       "    .dataframe tbody tr th {\n",
       "        vertical-align: top;\n",
       "    }\n",
       "\n",
       "    .dataframe thead th {\n",
       "        text-align: right;\n",
       "    }\n",
       "</style>\n",
       "<table border=\"1\" class=\"dataframe\">\n",
       "  <thead>\n",
       "    <tr style=\"text-align: right;\">\n",
       "      <th></th>\n",
       "      <th>Index</th>\n",
       "      <th>Name des Beihilfeempfängers</th>\n",
       "      <th>Nationale Kennung</th>\n",
       "      <th>Status</th>\n",
       "    </tr>\n",
       "  </thead>\n",
       "  <tbody>\n",
       "    <tr>\n",
       "      <th>0</th>\n",
       "      <td>102983</td>\n",
       "      <td>Hotel Residenz GmbH &amp; Co KG</td>\n",
       "      <td>DE297338368</td>\n",
       "      <td>NaN</td>\n",
       "    </tr>\n",
       "    <tr>\n",
       "      <th>1</th>\n",
       "      <td>102984</td>\n",
       "      <td>Verve GmbH</td>\n",
       "      <td>HRB17519</td>\n",
       "      <td>NaN</td>\n",
       "    </tr>\n",
       "    <tr>\n",
       "      <th>2</th>\n",
       "      <td>102985</td>\n",
       "      <td>JP KOM GmbH</td>\n",
       "      <td>DE208324734</td>\n",
       "      <td>NaN</td>\n",
       "    </tr>\n",
       "    <tr>\n",
       "      <th>3</th>\n",
       "      <td>102986</td>\n",
       "      <td>SMG Entertainment Deutschland GmbH</td>\n",
       "      <td>DE169783800</td>\n",
       "      <td>NaN</td>\n",
       "    </tr>\n",
       "    <tr>\n",
       "      <th>4</th>\n",
       "      <td>102987</td>\n",
       "      <td>KLARTEXT Grafik Messe Event GmbH</td>\n",
       "      <td>DE175516812</td>\n",
       "      <td>NaN</td>\n",
       "    </tr>\n",
       "    <tr>\n",
       "      <th>...</th>\n",
       "      <td>...</td>\n",
       "      <td>...</td>\n",
       "      <td>...</td>\n",
       "      <td>...</td>\n",
       "    </tr>\n",
       "    <tr>\n",
       "      <th>17263</th>\n",
       "      <td>120246</td>\n",
       "      <td>Global Bulk Logistic GmbH</td>\n",
       "      <td>DE814678847</td>\n",
       "      <td>NaN</td>\n",
       "    </tr>\n",
       "    <tr>\n",
       "      <th>17264</th>\n",
       "      <td>120247</td>\n",
       "      <td>TRIDELTA Weichferrite GmbH</td>\n",
       "      <td>HRB502785</td>\n",
       "      <td>NaN</td>\n",
       "    </tr>\n",
       "    <tr>\n",
       "      <th>17265</th>\n",
       "      <td>120248</td>\n",
       "      <td>Energieanlagen Greifswald GmbH</td>\n",
       "      <td>HRB 20492</td>\n",
       "      <td>NaN</td>\n",
       "    </tr>\n",
       "    <tr>\n",
       "      <th>17266</th>\n",
       "      <td>120249</td>\n",
       "      <td>Hotel Gude GmbH &amp; Co. KG</td>\n",
       "      <td>DE282139186</td>\n",
       "      <td>NaN</td>\n",
       "    </tr>\n",
       "    <tr>\n",
       "      <th>17267</th>\n",
       "      <td>120250</td>\n",
       "      <td>Tierpark Hotel GmbH</td>\n",
       "      <td>DE183032438</td>\n",
       "      <td>NaN</td>\n",
       "    </tr>\n",
       "  </tbody>\n",
       "</table>\n",
       "<p>17268 rows × 4 columns</p>\n",
       "</div>"
      ],
      "text/plain": [
       "        Index         Name des Beihilfeempfängers Nationale Kennung  Status\n",
       "0      102983         Hotel Residenz GmbH & Co KG       DE297338368     NaN\n",
       "1      102984                          Verve GmbH          HRB17519     NaN\n",
       "2      102985                         JP KOM GmbH       DE208324734     NaN\n",
       "3      102986  SMG Entertainment Deutschland GmbH       DE169783800     NaN\n",
       "4      102987    KLARTEXT Grafik Messe Event GmbH       DE175516812     NaN\n",
       "...       ...                                 ...               ...     ...\n",
       "17263  120246           Global Bulk Logistic GmbH       DE814678847     NaN\n",
       "17264  120247          TRIDELTA Weichferrite GmbH         HRB502785     NaN\n",
       "17265  120248      Energieanlagen Greifswald GmbH         HRB 20492     NaN\n",
       "17266  120249            Hotel Gude GmbH & Co. KG       DE282139186     NaN\n",
       "17267  120250                 Tierpark Hotel GmbH       DE183032438     NaN\n",
       "\n",
       "[17268 rows x 4 columns]"
      ]
     },
     "execution_count": 22,
     "metadata": {},
     "output_type": "execute_result"
    }
   ],
   "source": [
    "names2 = pd.read_csv('data/main/companies2.csv',sep='$')\n",
    "names2"
   ]
  },
  {
   "cell_type": "code",
   "execution_count": 23,
   "metadata": {},
   "outputs": [
    {
     "data": {
      "text/html": [
       "<div>\n",
       "<style scoped>\n",
       "    .dataframe tbody tr th:only-of-type {\n",
       "        vertical-align: middle;\n",
       "    }\n",
       "\n",
       "    .dataframe tbody tr th {\n",
       "        vertical-align: top;\n",
       "    }\n",
       "\n",
       "    .dataframe thead th {\n",
       "        text-align: right;\n",
       "    }\n",
       "</style>\n",
       "<table border=\"1\" class=\"dataframe\">\n",
       "  <thead>\n",
       "    <tr style=\"text-align: right;\">\n",
       "      <th></th>\n",
       "      <th>Index</th>\n",
       "      <th>Name des Beihilfeempfängers</th>\n",
       "      <th>Nationale Kennung</th>\n",
       "      <th>Status</th>\n",
       "    </tr>\n",
       "  </thead>\n",
       "  <tbody>\n",
       "    <tr>\n",
       "      <th>0</th>\n",
       "      <td>0</td>\n",
       "      <td>Eurocaribe Druck und Verlag GnbH</td>\n",
       "      <td>45/719/00411</td>\n",
       "      <td>NaN</td>\n",
       "    </tr>\n",
       "    <tr>\n",
       "      <th>1</th>\n",
       "      <td>1</td>\n",
       "      <td>K-motion GmbH &amp; Co. KG</td>\n",
       "      <td>43/637/00859</td>\n",
       "      <td>NaN</td>\n",
       "    </tr>\n",
       "    <tr>\n",
       "      <th>2</th>\n",
       "      <td>2</td>\n",
       "      <td>Künstlermanagement Uwe Kanthak</td>\n",
       "      <td>48/635/01062</td>\n",
       "      <td>NaN</td>\n",
       "    </tr>\n",
       "    <tr>\n",
       "      <th>3</th>\n",
       "      <td>3</td>\n",
       "      <td>Do it! Sprachreisen OHG</td>\n",
       "      <td>42/613/02646</td>\n",
       "      <td>NaN</td>\n",
       "    </tr>\n",
       "    <tr>\n",
       "      <th>4</th>\n",
       "      <td>4</td>\n",
       "      <td>HCK Holding GmbH</td>\n",
       "      <td>48/747/06065</td>\n",
       "      <td>NaN</td>\n",
       "    </tr>\n",
       "    <tr>\n",
       "      <th>...</th>\n",
       "      <td>...</td>\n",
       "      <td>...</td>\n",
       "      <td>...</td>\n",
       "      <td>...</td>\n",
       "    </tr>\n",
       "    <tr>\n",
       "      <th>17263</th>\n",
       "      <td>120246</td>\n",
       "      <td>Global Bulk Logistic GmbH</td>\n",
       "      <td>DE814678847</td>\n",
       "      <td>NaN</td>\n",
       "    </tr>\n",
       "    <tr>\n",
       "      <th>17264</th>\n",
       "      <td>120247</td>\n",
       "      <td>TRIDELTA Weichferrite GmbH</td>\n",
       "      <td>HRB502785</td>\n",
       "      <td>NaN</td>\n",
       "    </tr>\n",
       "    <tr>\n",
       "      <th>17265</th>\n",
       "      <td>120248</td>\n",
       "      <td>Energieanlagen Greifswald GmbH</td>\n",
       "      <td>HRB 20492</td>\n",
       "      <td>NaN</td>\n",
       "    </tr>\n",
       "    <tr>\n",
       "      <th>17266</th>\n",
       "      <td>120249</td>\n",
       "      <td>Hotel Gude GmbH &amp; Co. KG</td>\n",
       "      <td>DE282139186</td>\n",
       "      <td>NaN</td>\n",
       "    </tr>\n",
       "    <tr>\n",
       "      <th>17267</th>\n",
       "      <td>120250</td>\n",
       "      <td>Tierpark Hotel GmbH</td>\n",
       "      <td>DE183032438</td>\n",
       "      <td>NaN</td>\n",
       "    </tr>\n",
       "  </tbody>\n",
       "</table>\n",
       "<p>120251 rows × 4 columns</p>\n",
       "</div>"
      ],
      "text/plain": [
       "        Index       Name des Beihilfeempfängers Nationale Kennung  Status\n",
       "0           0  Eurocaribe Druck und Verlag GnbH      45/719/00411     NaN\n",
       "1           1            K-motion GmbH & Co. KG      43/637/00859     NaN\n",
       "2           2    Künstlermanagement Uwe Kanthak      48/635/01062     NaN\n",
       "3           3           Do it! Sprachreisen OHG      42/613/02646     NaN\n",
       "4           4                  HCK Holding GmbH      48/747/06065     NaN\n",
       "...       ...                               ...               ...     ...\n",
       "17263  120246         Global Bulk Logistic GmbH       DE814678847     NaN\n",
       "17264  120247        TRIDELTA Weichferrite GmbH         HRB502785     NaN\n",
       "17265  120248    Energieanlagen Greifswald GmbH         HRB 20492     NaN\n",
       "17266  120249          Hotel Gude GmbH & Co. KG       DE282139186     NaN\n",
       "17267  120250               Tierpark Hotel GmbH       DE183032438     NaN\n",
       "\n",
       "[120251 rows x 4 columns]"
      ]
     },
     "execution_count": 23,
     "metadata": {},
     "output_type": "execute_result"
    }
   ],
   "source": [
    "names3 = pd.concat([names, names2])\n",
    "names3"
   ]
  },
  {
   "cell_type": "code",
   "execution_count": 24,
   "metadata": {},
   "outputs": [],
   "source": [
    "names3.to_csv(r'/Users/marco/Library/CloudStorage/OneDrive-HertieSchool/Thesis/GitHub/thesis/data/main/companies3.csv', sep='$' , index=True, header=True)"
   ]
  },
  {
   "cell_type": "code",
   "execution_count": null,
   "metadata": {},
   "outputs": [],
   "source": []
  },
  {
   "cell_type": "code",
   "execution_count": null,
   "metadata": {},
   "outputs": [],
   "source": []
  },
  {
   "cell_type": "code",
   "execution_count": null,
   "metadata": {},
   "outputs": [],
   "source": []
  },
  {
   "cell_type": "code",
   "execution_count": null,
   "metadata": {},
   "outputs": [],
   "source": []
  },
  {
   "cell_type": "code",
   "execution_count": null,
   "metadata": {},
   "outputs": [],
   "source": []
  }
 ],
 "metadata": {
  "kernelspec": {
   "display_name": "env_3_9",
   "language": "python",
   "name": "python3"
  },
  "language_info": {
   "codemirror_mode": {
    "name": "ipython",
    "version": 3
   },
   "file_extension": ".py",
   "mimetype": "text/x-python",
   "name": "python",
   "nbconvert_exporter": "python",
   "pygments_lexer": "ipython3",
   "version": "3.9.16"
  },
  "orig_nbformat": 4
 },
 "nbformat": 4,
 "nbformat_minor": 2
}
