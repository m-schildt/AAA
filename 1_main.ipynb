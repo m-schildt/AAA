{
 "cells": [
  {
   "cell_type": "code",
   "execution_count": 1,
   "metadata": {},
   "outputs": [
    {
     "name": "stderr",
     "output_type": "stream",
     "text": [
      "/var/folders/nr/94zdnpbn2xj3pwc_d9lfk0cw0000gn/T/ipykernel_57379/2563333780.py:11: DtypeWarning: Columns (8,13,15,21) have mixed types. Specify dtype option on import or set low_memory=False.\n",
      "  df = pd.read_csv(filename, index_col=None, header=0)\n",
      "/var/folders/nr/94zdnpbn2xj3pwc_d9lfk0cw0000gn/T/ipykernel_57379/2563333780.py:11: DtypeWarning: Columns (13,24) have mixed types. Specify dtype option on import or set low_memory=False.\n",
      "  df = pd.read_csv(filename, index_col=None, header=0)\n",
      "/var/folders/nr/94zdnpbn2xj3pwc_d9lfk0cw0000gn/T/ipykernel_57379/2563333780.py:11: DtypeWarning: Columns (8,13,15,21) have mixed types. Specify dtype option on import or set low_memory=False.\n",
      "  df = pd.read_csv(filename, index_col=None, header=0)\n",
      "/var/folders/nr/94zdnpbn2xj3pwc_d9lfk0cw0000gn/T/ipykernel_57379/2563333780.py:11: DtypeWarning: Columns (8,13,15,21) have mixed types. Specify dtype option on import or set low_memory=False.\n",
      "  df = pd.read_csv(filename, index_col=None, header=0)\n",
      "/var/folders/nr/94zdnpbn2xj3pwc_d9lfk0cw0000gn/T/ipykernel_57379/2563333780.py:11: DtypeWarning: Columns (13,17,24) have mixed types. Specify dtype option on import or set low_memory=False.\n",
      "  df = pd.read_csv(filename, index_col=None, header=0)\n",
      "/var/folders/nr/94zdnpbn2xj3pwc_d9lfk0cw0000gn/T/ipykernel_57379/2563333780.py:11: DtypeWarning: Columns (8,13,15,21) have mixed types. Specify dtype option on import or set low_memory=False.\n",
      "  df = pd.read_csv(filename, index_col=None, header=0)\n",
      "/var/folders/nr/94zdnpbn2xj3pwc_d9lfk0cw0000gn/T/ipykernel_57379/2563333780.py:11: DtypeWarning: Columns (8,15,21) have mixed types. Specify dtype option on import or set low_memory=False.\n",
      "  df = pd.read_csv(filename, index_col=None, header=0)\n",
      "/var/folders/nr/94zdnpbn2xj3pwc_d9lfk0cw0000gn/T/ipykernel_57379/2563333780.py:11: DtypeWarning: Columns (8,13,15,21) have mixed types. Specify dtype option on import or set low_memory=False.\n",
      "  df = pd.read_csv(filename, index_col=None, header=0)\n"
     ]
    }
   ],
   "source": [
    "import pandas as pd\n",
    "import glob\n",
    "import os\n",
    "\n",
    "path = r'/Users/marco/Library/CloudStorage/OneDrive-HertieSchool/Thesis/GitHub/thesis/data/raw' \n",
    "all_files = glob.glob(os.path.join(path , \"*.csv\"))\n",
    "\n",
    "li = []\n",
    "\n",
    "for filename in all_files:\n",
    "    df = pd.read_csv(filename, index_col=None, header=0)\n",
    "    li.append(df)\n",
    "\n",
    "frame = pd.concat(li, axis=0, ignore_index=True)"
   ]
  },
  {
   "cell_type": "code",
   "execution_count": 2,
   "metadata": {},
   "outputs": [
    {
     "data": {
      "text/plain": [
       "(155516, 25)"
      ]
     },
     "execution_count": 2,
     "metadata": {},
     "output_type": "execute_result"
    }
   ],
   "source": [
    "frame = frame[(frame.Land == 'Deutschland')]\n",
    "frame.shape"
   ]
  },
  {
   "cell_type": "code",
   "execution_count": 3,
   "metadata": {},
   "outputs": [],
   "source": [
    "frame = frame[(frame['Ziel der Beihilfe'] == 'Behebung einer beträchtlichen Störung im Wirtschaftsleben eines Mitgliedstaats') ]"
   ]
  },
  {
   "cell_type": "code",
   "execution_count": 15,
   "metadata": {},
   "outputs": [],
   "source": [
    "frame.to_csv(r'/Users/marco/Library/CloudStorage/OneDrive-HertieSchool/Thesis/GitHub/thesis/data/main/all_companies.csv', index=False, header=True)"
   ]
  },
  {
   "cell_type": "code",
   "execution_count": null,
   "metadata": {},
   "outputs": [
    {
     "data": {
      "text/plain": [
       "['Land',\n",
       " 'Begünstigter in anderem Mitgliedstaat',\n",
       " 'Titel der Beihilfemaßnahme',\n",
       " 'Titel der Beihilfemaßnahme [EN]',\n",
       " 'SA.Nummer',\n",
       " 'Kennung',\n",
       " 'Nationale Kennung',\n",
       " 'Name des Beihilfeempfängers',\n",
       " 'Name des Beihilfeempfängers [EN]',\n",
       " 'Art des Beihilfeempfängers',\n",
       " 'Region',\n",
       " 'Wirtschaftszweig (NACE)',\n",
       " 'Beihilfeinstrument',\n",
       " 'Beihilfeinstrument [EN]',\n",
       " 'Ziel der Beihilfe',\n",
       " 'Ziel der Beihilfe [EN]',\n",
       " 'Nominalbetrag',\n",
       " 'Beihilfeelement, in voller Höhe',\n",
       " 'Währung',\n",
       " 'Tag der Gewährung',\n",
       " 'Name der Bewilligungsbehörde',\n",
       " 'Name der Bewilligungsbehörde [EN]',\n",
       " 'Veröffentlicht am',\n",
       " 'Betraute Einrichtung',\n",
       " 'Finanzintermediäre']"
      ]
     },
     "execution_count": 132,
     "metadata": {},
     "output_type": "execute_result"
    }
   ],
   "source": [
    "list(frame.columns)"
   ]
  },
  {
   "cell_type": "code",
   "execution_count": 5,
   "metadata": {},
   "outputs": [
    {
     "data": {
      "text/plain": [
       "Ziel der Beihilfe\n",
       "Behebung einer beträchtlichen Störung im Wirtschaftsleben eines Mitgliedstaats    135478\n",
       "Name: Land, dtype: int64"
      ]
     },
     "execution_count": 5,
     "metadata": {},
     "output_type": "execute_result"
    }
   ],
   "source": [
    "frame.groupby('Ziel der Beihilfe').count()['Land'].sort_values(ascending=False).head(15)"
   ]
  },
  {
   "cell_type": "code",
   "execution_count": 6,
   "metadata": {},
   "outputs": [
    {
     "data": {
      "text/plain": [
       "Beihilfeinstrument\n",
       "Zuschuss                                 76484\n",
       "Sonstiges (bitte angeben)                36127\n",
       "Zinsgünstiges Darlehen                   19920\n",
       "Zinszuschuss                              2191\n",
       "Andere Formen der Kapitalintervention      567\n",
       "Bürgschaft                                 175\n",
       "Eigenkapitalinstrumente                      8\n",
       "Kredite/rückzahlbare Vorschüsse              6\n",
       "Name: Land, dtype: int64"
      ]
     },
     "execution_count": 6,
     "metadata": {},
     "output_type": "execute_result"
    }
   ],
   "source": [
    "frame.groupby('Beihilfeinstrument').count()['Land'].sort_values(ascending=False)"
   ]
  },
  {
   "cell_type": "code",
   "execution_count": 7,
   "metadata": {},
   "outputs": [
    {
     "data": {
      "text/plain": [
       "Name der Bewilligungsbehörde\n",
       "Kreditanstalt für Wiederaufbau                                                               57866\n",
       "IHK für München und Oberbayern                                                               18091\n",
       "L-Bank Baden-Württemberg                                                                     10547\n",
       "RP Gießen                                                                                     6959\n",
       "IBB                                                                                           6383\n",
       "Bezirksregierung Düsseldorf                                                                   5802\n",
       "Bezirksregierung Köln                                                                         3940\n",
       "Hamburgische Investitions- und Förderbank                                                     3746\n",
       "Investitions- und Strukturbank Rheinland-Pfalz                                                3495\n",
       "Investitionsbank Schleswig-Holstein                                                           3132\n",
       "Bezirksregierung Arnsberg                                                                     2927\n",
       "Bezirksregierung Münster                                                                      2693\n",
       "Bezirksregierung Detmold                                                                      1846\n",
       "Landesförderinstitut Mecklenburg Vorpommern                                                   1645\n",
       "Thüringer Aufbaubank                                                                          1465\n",
       "Investitionsbank Sachsen-Anhalt                                                               1318\n",
       "Ministerium für Wirtschaft, Arbeit, Energie und Verkehr                                        823\n",
       "Bremer Aufbau-Bank GmbH                                                                        796\n",
       "Investitionsbank des Landes Brandenburg                                                        438\n",
       "LfA Förderbank Bayern                                                                          333\n",
       "Bundesamt für Wirtschaft und Ausfuhrkontrolle                                                  262\n",
       "Sachsen_SAB                                                                                    161\n",
       "Landesamt für Ländliche Entwicklung, Landwirtschaft und Flurneuordnung (LELF) Brandenburg      126\n",
       "Landwirtschaftliche Rentenbank                                                                 119\n",
       "BIS Bremerhavener Gesellschaft für Investitionsförderung und Stadtentwicklung mbH               46\n",
       "MBG Mittelständische Beteiligungsgesellschaft Schleswig-Holstein mbH                            40\n",
       "Bundesfinanzministerium                                                                         33\n",
       "Freie und Hansestadt Hamburg, Behörde für Wirtschaft, Verkehr und Innovation                    27\n",
       "Beauftragte der Bundesregierung für Kultur und Medien                                           27\n",
       "Justizministerium Baden-Württemberg                                                             25\n",
       "Inklusionsamt Bayern                                                                            24\n",
       "Mittelständische Beteiligungsgesellschaft mbH Mecklenburg Vorpommern                            24\n",
       "Integrationsamt Baden Württemberg                                                               21\n",
       "Regierung von Oberbayern                                                                        19\n",
       "Bundesministerium für Bildung und Forschung                                                     18\n",
       "Freie und Hansestadt Hamburg,  Behörde für Wirtschaft und Innovation                            16\n",
       "LWL-Inklusionsamt Nordrhein-Westfalen                                                           14\n",
       "Ministerium für Bildung, Jugend und Sport Brandenburg                                           12\n",
       "Regierung von Mittelfranken                                                                     12\n",
       "Finanzministerium Mecklenburg-Vorpommern                                                        11\n",
       "Name: Land, dtype: int64"
      ]
     },
     "execution_count": 7,
     "metadata": {},
     "output_type": "execute_result"
    }
   ],
   "source": [
    "frame.groupby('Name der Bewilligungsbehörde').count()['Land'].sort_values(ascending=False).head(40)"
   ]
  },
  {
   "cell_type": "code",
   "execution_count": 8,
   "metadata": {},
   "outputs": [],
   "source": [
    "frame[\"Nominalbetrag\"] = frame[\"Nominalbetrag\"].apply(float)\n",
    "frame[\"Beihilfeelement, in voller Höhe\"] = frame[\"Beihilfeelement, in voller Höhe\"].apply(float)\n"
   ]
  },
  {
   "cell_type": "code",
   "execution_count": 9,
   "metadata": {},
   "outputs": [
    {
     "data": {
      "text/plain": [
       "<Axes: xlabel='Tag der Gewährung'>"
      ]
     },
     "execution_count": 9,
     "metadata": {},
     "output_type": "execute_result"
    },
    {
     "data": {
      "image/png": "[encoded data removed]",
      "text/plain": [
       "<Figure size 640x480 with 1 Axes>"
      ]
     },
     "metadata": {},
     "output_type": "display_data"
    }
   ],
   "source": [
    "frame.plot(x=\"Tag der Gewährung\", y=[\"Nominalbetrag\"])"
   ]
  },
  {
   "cell_type": "code",
   "execution_count": 10,
   "metadata": {},
   "outputs": [
    {
     "data": {
      "text/plain": [
       "<Axes: xlabel='Tag der Gewährung'>"
      ]
     },
     "execution_count": 10,
     "metadata": {},
     "output_type": "execute_result"
    },
    {
     "data": {
      "image/png": "[encoded data removed]",
      "text/plain": [
       "<Figure size 640x480 with 1 Axes>"
      ]
     },
     "metadata": {},
     "output_type": "display_data"
    }
   ],
   "source": [
    "\n",
    "frame.plot(x=\"Tag der Gewährung\", y=[\"Beihilfeelement, in voller Höhe\"])"
   ]
  },
  {
   "cell_type": "code",
   "execution_count": 11,
   "metadata": {},
   "outputs": [],
   "source": [
    "frame[\"Tag der Gewährung\"] = pd.to_datetime(frame[\"Tag der Gewährung\"], infer_datetime_format=True)"
   ]
  },
  {
   "cell_type": "code",
   "execution_count": 13,
   "metadata": {},
   "outputs": [
    {
     "data": {
      "text/plain": [
       "<Axes: xlabel='Tag der Gewährung'>"
      ]
     },
     "execution_count": 13,
     "metadata": {},
     "output_type": "execute_result"
    },
    {
     "data": {
      "image/png": "[encoded data removed]",
      "text/plain": [
       "<Figure size 640x480 with 1 Axes>"
      ]
     },
     "metadata": {},
     "output_type": "display_data"
    }
   ],
   "source": [
    "frame.groupby(frame[\"Tag der Gewährung\"].dt.strftime('%m-%y')).agg (total = (\"Beihilfeelement, in voller Höhe\" , 'sum')).plot()"
   ]
  },
  {
   "cell_type": "code",
   "execution_count": 88,
   "metadata": {},
   "outputs": [],
   "source": [
    "frame.to_csv(r'/Users/marco/Library/CloudStorage/OneDrive-HertieSchool/Thesis/GitHub/thesis/data/main/all_companies.csv', index=False, header=True)"
   ]
  },
  {
   "cell_type": "code",
   "execution_count": 155,
   "metadata": {},
   "outputs": [
    {
     "data": {
      "text/html": [
       "<div>\n",
       "<style scoped>\n",
       "    .dataframe tbody tr th:only-of-type {\n",
       "        vertical-align: middle;\n",
       "    }\n",
       "\n",
       "    .dataframe tbody tr th {\n",
       "        vertical-align: top;\n",
       "    }\n",
       "\n",
       "    .dataframe thead th {\n",
       "        text-align: right;\n",
       "    }\n",
       "</style>\n",
       "<table border=\"1\" class=\"dataframe\">\n",
       "  <thead>\n",
       "    <tr style=\"text-align: right;\">\n",
       "      <th></th>\n",
       "      <th>Name des Beihilfeempfängers</th>\n",
       "      <th>Nationale Kennung</th>\n",
       "      <th>Status</th>\n",
       "    </tr>\n",
       "    <tr>\n",
       "      <th>Index</th>\n",
       "      <th></th>\n",
       "      <th></th>\n",
       "      <th></th>\n",
       "    </tr>\n",
       "  </thead>\n",
       "  <tbody>\n",
       "    <tr>\n",
       "      <th>0</th>\n",
       "      <td>Eurocaribe Druck und Verlag GnbH</td>\n",
       "      <td>45/719/00411</td>\n",
       "      <td></td>\n",
       "    </tr>\n",
       "    <tr>\n",
       "      <th>1</th>\n",
       "      <td>K-motion GmbH &amp; Co. KG</td>\n",
       "      <td>43/637/00859</td>\n",
       "      <td></td>\n",
       "    </tr>\n",
       "    <tr>\n",
       "      <th>2</th>\n",
       "      <td>Künstlermanagement Uwe Kanthak</td>\n",
       "      <td>48/635/01062</td>\n",
       "      <td></td>\n",
       "    </tr>\n",
       "    <tr>\n",
       "      <th>3</th>\n",
       "      <td>Do it! Sprachreisen OHG</td>\n",
       "      <td>42/613/02646</td>\n",
       "      <td></td>\n",
       "    </tr>\n",
       "    <tr>\n",
       "      <th>4</th>\n",
       "      <td>HCK Holding GmbH</td>\n",
       "      <td>48/747/06065</td>\n",
       "      <td></td>\n",
       "    </tr>\n",
       "    <tr>\n",
       "      <th>...</th>\n",
       "      <td>...</td>\n",
       "      <td>...</td>\n",
       "      <td>...</td>\n",
       "    </tr>\n",
       "    <tr>\n",
       "      <th>102978</th>\n",
       "      <td>Milchproduktion Kreinitz GmbH</td>\n",
       "      <td>Betriebsnummer 6273600025</td>\n",
       "      <td></td>\n",
       "    </tr>\n",
       "    <tr>\n",
       "      <th>102979</th>\n",
       "      <td>Jürgen Schirra</td>\n",
       "      <td>Betriebsnummer 072351140011</td>\n",
       "      <td></td>\n",
       "    </tr>\n",
       "    <tr>\n",
       "      <th>102980</th>\n",
       "      <td>Milchproduktion Wildenborn KG</td>\n",
       "      <td>HRA 34143 Stendal</td>\n",
       "      <td></td>\n",
       "    </tr>\n",
       "    <tr>\n",
       "      <th>102981</th>\n",
       "      <td>a) Weingut Bergdolt-Reif &amp; Nett GmbH&amp;Co.KG</td>\n",
       "      <td>HRA 61393 Ludwigshafen a. Rhein</td>\n",
       "      <td></td>\n",
       "    </tr>\n",
       "    <tr>\n",
       "      <th>102982</th>\n",
       "      <td>Baumschule Schlangen GmbH &amp; Co. KG</td>\n",
       "      <td>HRA 206538 Oldenburg</td>\n",
       "      <td></td>\n",
       "    </tr>\n",
       "  </tbody>\n",
       "</table>\n",
       "<p>102983 rows × 3 columns</p>\n",
       "</div>"
      ],
      "text/plain": [
       "                       Name des Beihilfeempfängers  \\\n",
       "Index                                                \n",
       "0                 Eurocaribe Druck und Verlag GnbH   \n",
       "1                           K-motion GmbH & Co. KG   \n",
       "2                   Künstlermanagement Uwe Kanthak   \n",
       "3                          Do it! Sprachreisen OHG   \n",
       "4                                 HCK Holding GmbH   \n",
       "...                                            ...   \n",
       "102978               Milchproduktion Kreinitz GmbH   \n",
       "102979                              Jürgen Schirra   \n",
       "102980               Milchproduktion Wildenborn KG   \n",
       "102981  a) Weingut Bergdolt-Reif & Nett GmbH&Co.KG   \n",
       "102982          Baumschule Schlangen GmbH & Co. KG   \n",
       "\n",
       "                      Nationale Kennung Status  \n",
       "Index                                           \n",
       "0                          45/719/00411         \n",
       "1                          43/637/00859         \n",
       "2                          48/635/01062         \n",
       "3                          42/613/02646         \n",
       "4                          48/747/06065         \n",
       "...                                 ...    ...  \n",
       "102978        Betriebsnummer 6273600025         \n",
       "102979      Betriebsnummer 072351140011         \n",
       "102980                HRA 34143 Stendal         \n",
       "102981  HRA 61393 Ludwigshafen a. Rhein         \n",
       "102982             HRA 206538 Oldenburg         \n",
       "\n",
       "[102983 rows x 3 columns]"
      ]
     },
     "execution_count": 155,
     "metadata": {},
     "output_type": "execute_result"
    }
   ],
   "source": [
    "frame = frame[['Name des Beihilfeempfängers','Nationale Kennung']].drop_duplicates()\n",
    "frame = frame.reset_index(drop=True, names='index')\n",
    "frame.index = frame.index.rename('Index')\n",
    "frame['Status'] = ''\n",
    "frame"
   ]
  },
  {
   "cell_type": "code",
   "execution_count": 159,
   "metadata": {},
   "outputs": [],
   "source": [
    "frame.to_csv(r'/Users/marco/Library/CloudStorage/OneDrive-HertieSchool/Thesis/GitHub/thesis/data/main/companies.csv', sep='$' , index=True, header=True)"
   ]
  },
  {
   "cell_type": "code",
   "execution_count": 158,
   "metadata": {},
   "outputs": [
    {
     "data": {
      "text/plain": [
       "(102983, 3)"
      ]
     },
     "execution_count": 158,
     "metadata": {},
     "output_type": "execute_result"
    }
   ],
   "source": [
    "frame.shape"
   ]
  },
  {
   "cell_type": "code",
   "execution_count": null,
   "metadata": {},
   "outputs": [],
   "source": []
  },
  {
   "cell_type": "code",
   "execution_count": null,
   "metadata": {},
   "outputs": [],
   "source": []
  },
  {
   "cell_type": "code",
   "execution_count": null,
   "metadata": {},
   "outputs": [],
   "source": []
  },
  {
   "cell_type": "code",
   "execution_count": null,
   "metadata": {},
   "outputs": [],
   "source": []
  },
  {
   "cell_type": "code",
   "execution_count": null,
   "metadata": {},
   "outputs": [],
   "source": []
  },
  {
   "cell_type": "code",
   "execution_count": null,
   "metadata": {},
   "outputs": [],
   "source": []
  },
  {
   "cell_type": "code",
   "execution_count": null,
   "metadata": {},
   "outputs": [],
   "source": []
  },
  {
   "cell_type": "code",
   "execution_count": null,
   "metadata": {},
   "outputs": [],
   "source": []
  },
  {
   "cell_type": "code",
   "execution_count": null,
   "metadata": {},
   "outputs": [],
   "source": []
  }
 ],
 "metadata": {
  "kernelspec": {
   "display_name": "env_3_9",
   "language": "python",
   "name": "python3"
  },
  "language_info": {
   "codemirror_mode": {
    "name": "ipython",
    "version": 3
   },
   "file_extension": ".py",
   "mimetype": "text/x-python",
   "name": "python",
   "nbconvert_exporter": "python",
   "pygments_lexer": "ipython3",
   "version": "3.9.16"
  },
  "orig_nbformat": 4
 },
 "nbformat": 4,
 "nbformat_minor": 2
}
