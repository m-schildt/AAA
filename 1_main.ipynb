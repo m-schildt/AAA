{
 "cells": [
  {
   "attachments": {},
   "cell_type": "markdown",
   "metadata": {},
   "source": [
    "## This Notebook prepares the data on state aid"
   ]
  },
  {
   "attachments": {},
   "cell_type": "markdown",
   "metadata": {},
   "source": [
    "Import libraries"
   ]
  },
  {
   "cell_type": "code",
   "execution_count": 1,
   "metadata": {},
   "outputs": [],
   "source": [
    "import pandas as pd\n",
    "import numpy as np\n",
    "import matplotlib.pyplot as plt\n",
    "import glob\n",
    "import os"
   ]
  },
  {
   "attachments": {},
   "cell_type": "markdown",
   "metadata": {},
   "source": [
    "The data on state aid is downloaded from: https://webgate.ec.europa.eu/competition/transparency/public?lang=en"
   ]
  },
  {
   "attachments": {},
   "cell_type": "markdown",
   "metadata": {},
   "source": [
    "The CSV Files are stored in 'data/raw'"
   ]
  },
  {
   "cell_type": "code",
   "execution_count": null,
   "metadata": {},
   "outputs": [],
   "source": [
    "path = r'/Users/marco/Library/CloudStorage/OneDrive-HertieSchool/Thesis/GitHub/thesis/data/raw' \n",
    "all_files = glob.glob(os.path.join(path , \"*.csv\"))\n",
    "\n",
    "li = []\n",
    "\n",
    "for filename in all_files:\n",
    "    df = pd.read_csv(filename, index_col=None, header=0)\n",
    "    li.append(df)\n",
    "\n",
    "frame = pd.concat(li, axis=0, ignore_index=True)"
   ]
  },
  {
   "attachments": {},
   "cell_type": "markdown",
   "metadata": {},
   "source": [
    "Filter for Germany"
   ]
  },
  {
   "cell_type": "code",
   "execution_count": 3,
   "metadata": {},
   "outputs": [
    {
     "data": {
      "text/plain": [
       "(155516, 25)"
      ]
     },
     "execution_count": 3,
     "metadata": {},
     "output_type": "execute_result"
    }
   ],
   "source": [
    "frame = frame[(frame.Land == 'Deutschland')]\n",
    "frame.shape"
   ]
  },
  {
   "attachments": {},
   "cell_type": "markdown",
   "metadata": {},
   "source": [
    "Filter for State Aid that is related to the pandemic"
   ]
  },
  {
   "cell_type": "code",
   "execution_count": 4,
   "metadata": {},
   "outputs": [
    {
     "data": {
      "text/plain": [
       "(135478, 25)"
      ]
     },
     "execution_count": 4,
     "metadata": {},
     "output_type": "execute_result"
    }
   ],
   "source": [
    "frame = frame[(frame['Ziel der Beihilfe'] == 'Behebung einer beträchtlichen Störung im Wirtschaftsleben eines Mitgliedstaats') ]\n",
    "frame.shape"
   ]
  },
  {
   "attachments": {},
   "cell_type": "markdown",
   "metadata": {},
   "source": [
    "Store complete data set as 'all_companies.csv'"
   ]
  },
  {
   "cell_type": "code",
   "execution_count": 15,
   "metadata": {},
   "outputs": [],
   "source": [
    "frame.to_csv(r'/Users/marco/Library/CloudStorage/OneDrive-HertieSchool/Thesis/GitHub/thesis/data/main/all_companies.csv', index=False, header=True)"
   ]
  },
  {
   "attachments": {},
   "cell_type": "markdown",
   "metadata": {},
   "source": [
    "Store only companies as 'companies.csv'"
   ]
  },
  {
   "cell_type": "code",
   "execution_count": null,
   "metadata": {},
   "outputs": [],
   "source": [
    "frame = frame[['Name des Beihilfeempfängers','Nationale Kennung']].drop_duplicates()\n",
    "frame = frame.reset_index(drop=True, names='index')\n",
    "frame.index = frame.index.rename('Index')\n",
    "frame['Status'] = ''\n",
    "frame\n",
    "frame.to_csv(r'/Users/marco/Library/CloudStorage/OneDrive-HertieSchool/Thesis/GitHub/thesis/data/main/companies.csv', sep='$' , index=True, header=True)"
   ]
  },
  {
   "attachments": {},
   "cell_type": "markdown",
   "metadata": {},
   "source": [
    "## Data insights"
   ]
  },
  {
   "attachments": {},
   "cell_type": "markdown",
   "metadata": {},
   "source": [
    "Show column names"
   ]
  },
  {
   "cell_type": "code",
   "execution_count": 5,
   "metadata": {},
   "outputs": [
    {
     "data": {
      "text/plain": [
       "['Land',\n",
       " 'Begünstigter in anderem Mitgliedstaat',\n",
       " 'Titel der Beihilfemaßnahme',\n",
       " 'Titel der Beihilfemaßnahme [EN]',\n",
       " 'SA.Nummer',\n",
       " 'Kennung',\n",
       " 'Nationale Kennung',\n",
       " 'Name des Beihilfeempfängers',\n",
       " 'Name des Beihilfeempfängers [EN]',\n",
       " 'Art des Beihilfeempfängers',\n",
       " 'Region',\n",
       " 'Wirtschaftszweig (NACE)',\n",
       " 'Beihilfeinstrument',\n",
       " 'Beihilfeinstrument [EN]',\n",
       " 'Ziel der Beihilfe',\n",
       " 'Ziel der Beihilfe [EN]',\n",
       " 'Nominalbetrag',\n",
       " 'Beihilfeelement, in voller Höhe',\n",
       " 'Währung',\n",
       " 'Tag der Gewährung',\n",
       " 'Name der Bewilligungsbehörde',\n",
       " 'Name der Bewilligungsbehörde [EN]',\n",
       " 'Veröffentlicht am',\n",
       " 'Betraute Einrichtung',\n",
       " 'Finanzintermediäre']"
      ]
     },
     "execution_count": 5,
     "metadata": {},
     "output_type": "execute_result"
    }
   ],
   "source": [
    "list(frame.columns)"
   ]
  },
  {
   "attachments": {},
   "cell_type": "markdown",
   "metadata": {},
   "source": [
    "Show aid instruments"
   ]
  },
  {
   "cell_type": "code",
   "execution_count": 6,
   "metadata": {},
   "outputs": [
    {
     "data": {
      "text/plain": [
       "Beihilfeinstrument\n",
       "Zuschuss                                 76484\n",
       "Sonstiges (bitte angeben)                36127\n",
       "Zinsgünstiges Darlehen                   19920\n",
       "Zinszuschuss                              2191\n",
       "Andere Formen der Kapitalintervention      567\n",
       "Bürgschaft                                 175\n",
       "Eigenkapitalinstrumente                      8\n",
       "Kredite/rückzahlbare Vorschüsse              6\n",
       "Name: Land, dtype: int64"
      ]
     },
     "execution_count": 6,
     "metadata": {},
     "output_type": "execute_result"
    }
   ],
   "source": [
    "frame.groupby('Beihilfeinstrument').count()['Land'].sort_values(ascending=False)"
   ]
  },
  {
   "attachments": {},
   "cell_type": "markdown",
   "metadata": {},
   "source": [
    "Show top 10 granting authorities"
   ]
  },
  {
   "cell_type": "code",
   "execution_count": 6,
   "metadata": {},
   "outputs": [
    {
     "data": {
      "text/plain": [
       "Name der Bewilligungsbehörde\n",
       "Kreditanstalt für Wiederaufbau                    57866\n",
       "IHK für München und Oberbayern                    18091\n",
       "L-Bank Baden-Württemberg                          10547\n",
       "RP Gießen                                          6959\n",
       "IBB                                                6383\n",
       "Bezirksregierung Düsseldorf                        5802\n",
       "Bezirksregierung Köln                              3940\n",
       "Hamburgische Investitions- und Förderbank          3746\n",
       "Investitions- und Strukturbank Rheinland-Pfalz     3495\n",
       "Investitionsbank Schleswig-Holstein                3132\n",
       "Name: Land, dtype: int64"
      ]
     },
     "execution_count": 6,
     "metadata": {},
     "output_type": "execute_result"
    }
   ],
   "source": [
    "frame.groupby('Name der Bewilligungsbehörde').count()['Land'].sort_values(ascending=False).head(10)"
   ]
  },
  {
   "attachments": {},
   "cell_type": "markdown",
   "metadata": {},
   "source": [
    "convert aid amounts into readable formant"
   ]
  },
  {
   "cell_type": "code",
   "execution_count": 7,
   "metadata": {},
   "outputs": [],
   "source": [
    "frame[\"Nominalbetrag\"] = frame[\"Nominalbetrag\"].apply(float)\n",
    "frame[\"Beihilfeelement, in voller Höhe\"] = frame[\"Beihilfeelement, in voller Höhe\"].apply(float)\n"
   ]
  },
  {
   "attachments": {},
   "cell_type": "markdown",
   "metadata": {},
   "source": [
    "convert dates of granting into readable formant"
   ]
  },
  {
   "cell_type": "code",
   "execution_count": 8,
   "metadata": {},
   "outputs": [],
   "source": [
    "frame[\"Tag der Gewährung\"] = pd.to_datetime(frame[\"Tag der Gewährung\"], infer_datetime_format=True)"
   ]
  },
  {
   "attachments": {},
   "cell_type": "markdown",
   "metadata": {},
   "source": [
    "Convert the columns of amount (for grants) and nominal amount (for loans) into a single column. This is needed since the amounts for loans and grants were stored in seperate columns"
   ]
  },
  {
   "cell_type": "code",
   "execution_count": 9,
   "metadata": {},
   "outputs": [],
   "source": [
    "frame['Beihilfeelement, in voller Höhe'].replace(np.nan, 0, inplace=True)\n",
    "frame['Nominalbetrag'].replace(np.nan, 0, inplace=True)\n",
    "\n",
    "frame['aid'] = np.where(frame['Nominalbetrag'] == 0, frame['Beihilfeelement, in voller Höhe'], frame['Nominalbetrag'])\n",
    "frame = frame.drop(columns = ['Nominalbetrag', 'Beihilfeelement, in voller Höhe'])"
   ]
  },
  {
   "attachments": {},
   "cell_type": "markdown",
   "metadata": {},
   "source": [
    "Show daily granted amounts. (The main outlier with 6 billion EUR is the aid to Lufthansa)"
   ]
  },
  {
   "cell_type": "code",
   "execution_count": 10,
   "metadata": {},
   "outputs": [
    {
     "data": {
      "text/plain": [
       "<Axes: xlabel='Tag der Gewährung'>"
      ]
     },
     "execution_count": 10,
     "metadata": {},
     "output_type": "execute_result"
    },
    {
     "data": {
      "image/png": "[encoded data removed]",
      "text/plain": [
       "<Figure size 640x480 with 1 Axes>"
      ]
     },
     "metadata": {},
     "output_type": "display_data"
    }
   ],
   "source": [
    "frame.plot(x=\"Tag der Gewährung\", y=[\"aid\"])"
   ]
  },
  {
   "attachments": {},
   "cell_type": "markdown",
   "metadata": {},
   "source": [
    "Show the sum for each aid instrument"
   ]
  },
  {
   "cell_type": "code",
   "execution_count": null,
   "metadata": {},
   "outputs": [],
   "source": [
    "pd.options.display.float_format = \"{:,.2f}\".format\n",
    "table_aid = frame.groupby('Beihilfeinstrument').sum().reset_index()#.to_latex()"
   ]
  },
  {
   "cell_type": "code",
   "execution_count": 216,
   "metadata": {},
   "outputs": [
    {
     "data": {
      "text/html": [
       "<div>\n",
       "<style scoped>\n",
       "    .dataframe tbody tr th:only-of-type {\n",
       "        vertical-align: middle;\n",
       "    }\n",
       "\n",
       "    .dataframe tbody tr th {\n",
       "        vertical-align: top;\n",
       "    }\n",
       "\n",
       "    .dataframe thead th {\n",
       "        text-align: right;\n",
       "    }\n",
       "</style>\n",
       "<table border=\"1\" class=\"dataframe\">\n",
       "  <thead>\n",
       "    <tr style=\"text-align: right;\">\n",
       "      <th></th>\n",
       "      <th>Beihilfeinstrument</th>\n",
       "      <th>aid</th>\n",
       "    </tr>\n",
       "  </thead>\n",
       "  <tbody>\n",
       "    <tr>\n",
       "      <th>0</th>\n",
       "      <td>Andere Formen der Kapitalintervention</td>\n",
       "      <td>9,017,729,574.33</td>\n",
       "    </tr>\n",
       "    <tr>\n",
       "      <th>1</th>\n",
       "      <td>Bürgschaft</td>\n",
       "      <td>1,144,042,410.02</td>\n",
       "    </tr>\n",
       "    <tr>\n",
       "      <th>2</th>\n",
       "      <td>Eigenkapitalinstrumente</td>\n",
       "      <td>2,419,881,701.00</td>\n",
       "    </tr>\n",
       "    <tr>\n",
       "      <th>3</th>\n",
       "      <td>Kredite/rückzahlbare Vorschüsse</td>\n",
       "      <td>753,217,635.27</td>\n",
       "    </tr>\n",
       "    <tr>\n",
       "      <th>4</th>\n",
       "      <td>Sonstiges (bitte angeben)</td>\n",
       "      <td>14,244,894,962.69</td>\n",
       "    </tr>\n",
       "    <tr>\n",
       "      <th>5</th>\n",
       "      <td>Zinsgünstiges Darlehen</td>\n",
       "      <td>10,500,942,385.00</td>\n",
       "    </tr>\n",
       "    <tr>\n",
       "      <th>6</th>\n",
       "      <td>Zinszuschuss</td>\n",
       "      <td>9,383,307,910.00</td>\n",
       "    </tr>\n",
       "    <tr>\n",
       "      <th>7</th>\n",
       "      <td>Zuschuss</td>\n",
       "      <td>24,959,647,770.34</td>\n",
       "    </tr>\n",
       "  </tbody>\n",
       "</table>\n",
       "</div>"
      ],
      "text/plain": [
       "                      Beihilfeinstrument               aid\n",
       "0  Andere Formen der Kapitalintervention  9,017,729,574.33\n",
       "1                             Bürgschaft  1,144,042,410.02\n",
       "2                Eigenkapitalinstrumente  2,419,881,701.00\n",
       "3        Kredite/rückzahlbare Vorschüsse    753,217,635.27\n",
       "4              Sonstiges (bitte angeben) 14,244,894,962.69\n",
       "5                 Zinsgünstiges Darlehen 10,500,942,385.00\n",
       "6                           Zinszuschuss  9,383,307,910.00\n",
       "7                               Zuschuss 24,959,647,770.34"
      ]
     },
     "execution_count": 216,
     "metadata": {},
     "output_type": "execute_result"
    }
   ],
   "source": [
    "table_aid"
   ]
  },
  {
   "cell_type": "code",
   "execution_count": null,
   "metadata": {},
   "outputs": [],
   "source": [
    "with open('/Users/marco/Library/CloudStorage/OneDrive-HertieSchool/Thesis/GitHub/thesis/paper/Tables/table_1.tex', 'w') as tf:\n",
    "     tf.write(table_aid.to_latex(index=False))"
   ]
  },
  {
   "attachments": {},
   "cell_type": "markdown",
   "metadata": {},
   "source": [
    "#### Timeline graph"
   ]
  },
  {
   "cell_type": "code",
   "execution_count": null,
   "metadata": {},
   "outputs": [],
   "source": [
    "df_timeline = frame.groupby([\"Tag der Gewährung\",'Beihilfeinstrument']).sum().cumsum().reset_index().pivot_table(index='Tag der Gewährung', columns='Beihilfeinstrument')['aid'].reset_index()#.transpose().reset_index()"
   ]
  },
  {
   "cell_type": "code",
   "execution_count": 206,
   "metadata": {},
   "outputs": [],
   "source": [
    "df_timeline.set_index('Tag der Gewährung', inplace=True)"
   ]
  },
  {
   "cell_type": "code",
   "execution_count": 207,
   "metadata": {},
   "outputs": [],
   "source": [
    "df_timeline = df_timeline.fillna(method='ffill')"
   ]
  },
  {
   "cell_type": "code",
   "execution_count": 208,
   "metadata": {},
   "outputs": [],
   "source": [
    "df_timeline = df_timeline.fillna(value=0)"
   ]
  },
  {
   "cell_type": "code",
   "execution_count": null,
   "metadata": {},
   "outputs": [],
   "source": [
    "ax = df_timeline.plot(kind='area', alpha=.7, title=\"Foreign Holdings of U.S. Treasury short-term Debt\",figsize=(10,5))\n",
    "ax.set_xlabel(\"Timeline\")\n",
    "ax.invert_xaxis()\n",
    "ax.set_ylabel(\"EUR\")\n",
    "\n",
    "#handles, labels = plt.gca().get_legend_handles_labels()\n",
    "ax.legend( title='Group', loc='center left', bbox_to_anchor=(1, 0.5))\n",
    "\n",
    "# after plotting the data, format the labels\n",
    "current_values = plt.gca().get_yticks()\n",
    "# using format string '{:.0f}' here but you can choose others\n",
    "plt.gca().set_yticklabels(['{:,.0f}'.format(x) for x in current_values])\n",
    "\n",
    "\n",
    "plt.show()"
   ]
  },
  {
   "cell_type": "code",
   "execution_count": 37,
   "metadata": {},
   "outputs": [],
   "source": [
    "df_timeline = frame.groupby(frame[\"Tag der Gewährung\"].dt.strftime('%m-%y')).agg (total = (\"aid\" , 'sum')).reset_index().sort_values('Tag der Gewährung')"
   ]
  },
  {
   "cell_type": "code",
   "execution_count": 40,
   "metadata": {},
   "outputs": [],
   "source": [
    "df_timeline['total'] = df_timeline['total'].cumsum()"
   ]
  },
  {
   "cell_type": "code",
   "execution_count": 44,
   "metadata": {},
   "outputs": [
    {
     "data": {
      "text/plain": [
       "<Axes: xlabel='Tag der Gewährung'>"
      ]
     },
     "execution_count": 44,
     "metadata": {},
     "output_type": "execute_result"
    },
    {
     "data": {
      "image/png": "[encoded data removed]",
      "text/plain": [
       "<Figure size 640x480 with 1 Axes>"
      ]
     },
     "metadata": {},
     "output_type": "display_data"
    }
   ],
   "source": [
    "df_timeline.plot(x=\"Tag der Gewährung\", y='total')"
   ]
  },
  {
   "cell_type": "code",
   "execution_count": 11,
   "metadata": {},
   "outputs": [
    {
     "data": {
      "text/plain": [
       "<Axes: xlabel='Tag der Gewährung'>"
      ]
     },
     "execution_count": 11,
     "metadata": {},
     "output_type": "execute_result"
    },
    {
     "data": {
      "image/png": "[encoded data removed]",
      "text/plain": [
       "<Figure size 640x480 with 1 Axes>"
      ]
     },
     "metadata": {},
     "output_type": "display_data"
    }
   ],
   "source": [
    "frame.groupby(frame[\"Tag der Gewährung\"].dt.strftime('%m-%y')).agg (total = (\"aid\" , 'sum')).sort_index().plot()"
   ]
  },
  {
   "cell_type": "code",
   "execution_count": 15,
   "metadata": {},
   "outputs": [
    {
     "data": {
      "text/plain": [
       "<pandas.core.groupby.generic.DataFrameGroupBy object at 0x7fb970849160>"
      ]
     },
     "execution_count": 15,
     "metadata": {},
     "output_type": "execute_result"
    }
   ],
   "source": [
    "frame.groupby(frame[\"Tag der Gewährung\"].dt.strftime('%m-%y'))#.agg (total = (\"Beihilfeelement, in voller Höhe\" , 'sum'))"
   ]
  },
  {
   "cell_type": "code",
   "execution_count": 88,
   "metadata": {},
   "outputs": [],
   "source": [
    "frame.to_csv(r'/Users/marco/Library/CloudStorage/OneDrive-HertieSchool/Thesis/GitHub/thesis/data/main/all_companies.csv', index=False, header=True)"
   ]
  },
  {
   "cell_type": "code",
   "execution_count": 155,
   "metadata": {},
   "outputs": [
    {
     "data": {
      "text/html": [
       "<div>\n",
       "<style scoped>\n",
       "    .dataframe tbody tr th:only-of-type {\n",
       "        vertical-align: middle;\n",
       "    }\n",
       "\n",
       "    .dataframe tbody tr th {\n",
       "        vertical-align: top;\n",
       "    }\n",
       "\n",
       "    .dataframe thead th {\n",
       "        text-align: right;\n",
       "    }\n",
       "</style>\n",
       "<table border=\"1\" class=\"dataframe\">\n",
       "  <thead>\n",
       "    <tr style=\"text-align: right;\">\n",
       "      <th></th>\n",
       "      <th>Name des Beihilfeempfängers</th>\n",
       "      <th>Nationale Kennung</th>\n",
       "      <th>Status</th>\n",
       "    </tr>\n",
       "    <tr>\n",
       "      <th>Index</th>\n",
       "      <th></th>\n",
       "      <th></th>\n",
       "      <th></th>\n",
       "    </tr>\n",
       "  </thead>\n",
       "  <tbody>\n",
       "    <tr>\n",
       "      <th>0</th>\n",
       "      <td>Eurocaribe Druck und Verlag GnbH</td>\n",
       "      <td>45/719/00411</td>\n",
       "      <td></td>\n",
       "    </tr>\n",
       "    <tr>\n",
       "      <th>1</th>\n",
       "      <td>K-motion GmbH &amp; Co. KG</td>\n",
       "      <td>43/637/00859</td>\n",
       "      <td></td>\n",
       "    </tr>\n",
       "    <tr>\n",
       "      <th>2</th>\n",
       "      <td>Künstlermanagement Uwe Kanthak</td>\n",
       "      <td>48/635/01062</td>\n",
       "      <td></td>\n",
       "    </tr>\n",
       "    <tr>\n",
       "      <th>3</th>\n",
       "      <td>Do it! Sprachreisen OHG</td>\n",
       "      <td>42/613/02646</td>\n",
       "      <td></td>\n",
       "    </tr>\n",
       "    <tr>\n",
       "      <th>4</th>\n",
       "      <td>HCK Holding GmbH</td>\n",
       "      <td>48/747/06065</td>\n",
       "      <td></td>\n",
       "    </tr>\n",
       "    <tr>\n",
       "      <th>...</th>\n",
       "      <td>...</td>\n",
       "      <td>...</td>\n",
       "      <td>...</td>\n",
       "    </tr>\n",
       "    <tr>\n",
       "      <th>102978</th>\n",
       "      <td>Milchproduktion Kreinitz GmbH</td>\n",
       "      <td>Betriebsnummer 6273600025</td>\n",
       "      <td></td>\n",
       "    </tr>\n",
       "    <tr>\n",
       "      <th>102979</th>\n",
       "      <td>Jürgen Schirra</td>\n",
       "      <td>Betriebsnummer 072351140011</td>\n",
       "      <td></td>\n",
       "    </tr>\n",
       "    <tr>\n",
       "      <th>102980</th>\n",
       "      <td>Milchproduktion Wildenborn KG</td>\n",
       "      <td>HRA 34143 Stendal</td>\n",
       "      <td></td>\n",
       "    </tr>\n",
       "    <tr>\n",
       "      <th>102981</th>\n",
       "      <td>a) Weingut Bergdolt-Reif &amp; Nett GmbH&amp;Co.KG</td>\n",
       "      <td>HRA 61393 Ludwigshafen a. Rhein</td>\n",
       "      <td></td>\n",
       "    </tr>\n",
       "    <tr>\n",
       "      <th>102982</th>\n",
       "      <td>Baumschule Schlangen GmbH &amp; Co. KG</td>\n",
       "      <td>HRA 206538 Oldenburg</td>\n",
       "      <td></td>\n",
       "    </tr>\n",
       "  </tbody>\n",
       "</table>\n",
       "<p>102983 rows × 3 columns</p>\n",
       "</div>"
      ],
      "text/plain": [
       "                       Name des Beihilfeempfängers  \\\n",
       "Index                                                \n",
       "0                 Eurocaribe Druck und Verlag GnbH   \n",
       "1                           K-motion GmbH & Co. KG   \n",
       "2                   Künstlermanagement Uwe Kanthak   \n",
       "3                          Do it! Sprachreisen OHG   \n",
       "4                                 HCK Holding GmbH   \n",
       "...                                            ...   \n",
       "102978               Milchproduktion Kreinitz GmbH   \n",
       "102979                              Jürgen Schirra   \n",
       "102980               Milchproduktion Wildenborn KG   \n",
       "102981  a) Weingut Bergdolt-Reif & Nett GmbH&Co.KG   \n",
       "102982          Baumschule Schlangen GmbH & Co. KG   \n",
       "\n",
       "                      Nationale Kennung Status  \n",
       "Index                                           \n",
       "0                          45/719/00411         \n",
       "1                          43/637/00859         \n",
       "2                          48/635/01062         \n",
       "3                          42/613/02646         \n",
       "4                          48/747/06065         \n",
       "...                                 ...    ...  \n",
       "102978        Betriebsnummer 6273600025         \n",
       "102979      Betriebsnummer 072351140011         \n",
       "102980                HRA 34143 Stendal         \n",
       "102981  HRA 61393 Ludwigshafen a. Rhein         \n",
       "102982             HRA 206538 Oldenburg         \n",
       "\n",
       "[102983 rows x 3 columns]"
      ]
     },
     "execution_count": 155,
     "metadata": {},
     "output_type": "execute_result"
    }
   ],
   "source": [
    "frame = frame[['Name des Beihilfeempfängers','Nationale Kennung']].drop_duplicates()\n",
    "frame = frame.reset_index(drop=True, names='index')\n",
    "frame.index = frame.index.rename('Index')\n",
    "frame['Status'] = ''\n",
    "frame"
   ]
  },
  {
   "cell_type": "code",
   "execution_count": 159,
   "metadata": {},
   "outputs": [],
   "source": [
    "frame.to_csv(r'/Users/marco/Library/CloudStorage/OneDrive-HertieSchool/Thesis/GitHub/thesis/data/main/companies.csv', sep='$' , index=True, header=True)"
   ]
  }
 ],
 "metadata": {
  "kernelspec": {
   "display_name": "env_3_9",
   "language": "python",
   "name": "python3"
  },
  "language_info": {
   "codemirror_mode": {
    "name": "ipython",
    "version": 3
   },
   "file_extension": ".py",
   "mimetype": "text/x-python",
   "name": "python",
   "nbconvert_exporter": "python",
   "pygments_lexer": "ipython3",
   "version": "3.9.16"
  },
  "orig_nbformat": 4
 },
 "nbformat": 4,
 "nbformat_minor": 2
}
