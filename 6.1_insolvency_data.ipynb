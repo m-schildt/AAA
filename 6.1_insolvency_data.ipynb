{
 "cells": [
  {
   "cell_type": "code",
   "execution_count": 1,
   "metadata": {},
   "outputs": [],
   "source": [
    "import pandas as pd\n",
    "import re\n",
    "import mechanize\n",
    "from bs4 import BeautifulSoup"
   ]
  },
  {
   "cell_type": "code",
   "execution_count": null,
   "metadata": {},
   "outputs": [],
   "source": [
    "def search_company(date):\n",
    "    # Date format: \"2023-03-06\"\n",
    "    br = mechanize.Browser()\n",
    "    br.set_handle_robots(False)\n",
    "    br.set_handle_equiv(True)\n",
    "    br.set_handle_gzip(True)\n",
    "    br.set_handle_refresh(False)\n",
    "    br.set_handle_redirect(True)\n",
    "    br.set_handle_referer(True)\n",
    "\n",
    "    headers = [\n",
    "                (\n",
    "                    \"User-Agent\",\n",
    "                    \"Mozilla/5.0 (Macintosh; Intel Mac OS X 10_15_7) AppleWebKit/605.1.15 (KHTML, like Gecko) Version/15.5 Safari/605.1.15\",\n",
    "                ),\n",
    "                (   \"Accept-Language\", \"en-GB,en;q=0.9\"   ),\n",
    "                (   \"Accept-Encoding\", \"gzip, deflate, br\"    ),\n",
    "                (\n",
    "                    \"Accept\",\n",
    "                    \"text/html,application/xhtml+xml,application/xml;q=0.9,*/*;q=0.8\",\n",
    "                ),\n",
    "                (   \"Connection\", \"keep-alive\"    ),\n",
    "            ]\n",
    "\n",
    "    br.addheaders = headers\n",
    "    br.open(\"https://neu.insolvenzbekanntmachungen.de/ap/suche.jsf\", timeout=5)\n",
    "    #for form in br.forms():\n",
    "    #    print(\"Form name:\", form.name)\n",
    "    #    print(form)\n",
    "    br.select_form(name=\"frm_suche\")\n",
    "    # Browser passes through unknown attributes (including methods)\n",
    "    # to the selected HTMLForm.\n",
    "    br[\"frm_suche:ldi_datumVon:datumHtml5\"] = date  # (the method here is __setitem__)\n",
    "    br['frm_suche:ldi_datumBis:datumHtml5']= date\n",
    "    # Submit current form.  Browser calls .close() on the current response on\n",
    "    # navigation, so this closes response1\n",
    "    response2 = br.submit()\n",
    "    html = response2.read().decode(\"utf-8\")\n",
    "    result = pd.read_html(html, attrs={\"id\":\"tbl_ergebnis\"})[0]\n",
    "    return result"
   ]
  },
  {
   "cell_type": "code",
   "execution_count": null,
   "metadata": {},
   "outputs": [],
   "source": [
    "days = [\"%.2d\" % i for i in range(1,32)]\n",
    "months = [\"%.2d\" % i for i in range(1,13)]\n",
    "#months = [\"%.2d\" % i for i in range(1,4)] till March"
   ]
  },
  {
   "cell_type": "code",
   "execution_count": null,
   "metadata": {},
   "outputs": [],
   "source": [
    "year = '2023'\n",
    "all_2023 = pd.DataFrame()\n",
    "for month in months:\n",
    "    for day in days:\n",
    "        date = year + \"-\" + month + \"-\" + day\n",
    "        print(date)\n",
    "        try:\n",
    "            bs = search_company(date)\n",
    "            all_2023 = pd.concat([all_2023,bs], axis=0)\n",
    "        except:\n",
    "            None"
   ]
  },
  {
   "cell_type": "code",
   "execution_count": null,
   "metadata": {},
   "outputs": [],
   "source": [
    "all_2023.to_csv(r'insolvenzen_2023.csv',index=True, header=True)"
   ]
  },
  {
   "cell_type": "code",
   "execution_count": null,
   "metadata": {},
   "outputs": [],
   "source": [
    "all_2020_23 = pd.concat([all_2021,all_2022,all_2023], axis=0)"
   ]
  },
  {
   "cell_type": "code",
   "execution_count": null,
   "metadata": {},
   "outputs": [],
   "source": [
    "all_2020_23.to_csv(r'insolvenzen.csv',index=True, header=True)"
   ]
  },
  {
   "cell_type": "code",
   "execution_count": 2,
   "metadata": {},
   "outputs": [],
   "source": [
    "all_2020_23 = pd.read_csv(\"insolvenzen.csv\")"
   ]
  },
  {
   "cell_type": "code",
   "execution_count": null,
   "metadata": {},
   "outputs": [],
   "source": [
    "companies_2020 = pd.read_csv(\"GER_dataframe.csv\")"
   ]
  },
  {
   "cell_type": "code",
   "execution_count": null,
   "metadata": {},
   "outputs": [],
   "source": [
    "companies_2021 = pd.read_csv(\"GER_dataframe_2021.csv\")"
   ]
  },
  {
   "cell_type": "code",
   "execution_count": 5,
   "metadata": {},
   "outputs": [
    {
     "data": {
      "text/plain": [
       "0         Golfpark Schlossgut Sickendorf GmbH\n",
       "1                              VIBROPLAN GmbH\n",
       "2             \"Camion Blue\" Modevertrieb GmbH\n",
       "3                      A-Z2 Bau GmbH & Co. KG\n",
       "4                               Abdal, Sfiyan\n",
       "                         ...                 \n",
       "347498                            Zorn, Katja\n",
       "347499                            Zorn, Katja\n",
       "347500                           Zsolt, Szücs\n",
       "347501                     Zühlsdorff, Annett\n",
       "347502                     Zühlsdorff, Annett\n",
       "Name: Name, Vorname / Bezeichnung, Length: 347503, dtype: object"
      ]
     },
     "execution_count": 5,
     "metadata": {},
     "output_type": "execute_result"
    }
   ],
   "source": [
    "all_2020_23['Name, Vorname / Bezeichnung']"
   ]
  },
  {
   "cell_type": "code",
   "execution_count": 15,
   "metadata": {},
   "outputs": [
    {
     "data": {
      "text/plain": [
       "0                       SCHUNK GMBH & CO.KG SPANN- UND\n",
       "1                                Flughafen Bremen GmbH\n",
       "2                         Bernheimer Contemporary GmbH\n",
       "3                                 Schlote Holding GmbH\n",
       "4                                           ORSAY GmbH\n",
       "                             ...                      \n",
       "71166                                 Kulturwald gGmbH\n",
       "71167                                       Kai Aßmann\n",
       "71168                                    KultTour GmbH\n",
       "71169                GOP Varieté München GmbH & Co. KG\n",
       "71170    Spectrum Gastronomie- und Veranstaltungs GmbH\n",
       "Name: Name des Beihilfeempfängers, Length: 71171, dtype: object"
      ]
     },
     "execution_count": 15,
     "metadata": {},
     "output_type": "execute_result"
    }
   ],
   "source": [
    "companies_2021['Name des Beihilfeempfängers']"
   ]
  },
  {
   "cell_type": "code",
   "execution_count": 19,
   "metadata": {},
   "outputs": [
    {
     "data": {
      "text/plain": [
       "False    43872\n",
       "True        71\n",
       "Name: Name des Beihilfeempfängers, dtype: int64"
      ]
     },
     "execution_count": 19,
     "metadata": {},
     "output_type": "execute_result"
    }
   ],
   "source": [
    "companies_2020['Name des Beihilfeempfängers'].isin(all_2020_23['Name, Vorname / Bezeichnung']).value_counts()"
   ]
  },
  {
   "cell_type": "code",
   "execution_count": 16,
   "metadata": {},
   "outputs": [
    {
     "data": {
      "text/plain": [
       "False    70772\n",
       "True       399\n",
       "Name: Name des Beihilfeempfängers, dtype: int64"
      ]
     },
     "execution_count": 16,
     "metadata": {},
     "output_type": "execute_result"
    }
   ],
   "source": [
    "companies_2021['Name des Beihilfeempfängers'].isin(all_2020_23['Name, Vorname / Bezeichnung']).value_counts()\n"
   ]
  },
  {
   "cell_type": "code",
   "execution_count": 20,
   "metadata": {},
   "outputs": [],
   "source": [
    "match_2022 = companies_2020['Name des Beihilfeempfängers'].isin(all_2020_23['Name, Vorname / Bezeichnung'])#.value_counts()"
   ]
  },
  {
   "cell_type": "code",
   "execution_count": 21,
   "metadata": {},
   "outputs": [],
   "source": [
    "companies_2020['match'] = match_2022"
   ]
  },
  {
   "cell_type": "code",
   "execution_count": 17,
   "metadata": {},
   "outputs": [],
   "source": [
    "match_2021 = companies_2021['Name des Beihilfeempfängers'].isin(all_2020_23['Name, Vorname / Bezeichnung'])#.value_counts()\n",
    "companies_2021['match'] = match_2021"
   ]
  }
 ],
 "metadata": {
  "kernelspec": {
   "display_name": "Python 3",
   "language": "python",
   "name": "python3"
  },
  "language_info": {
   "codemirror_mode": {
    "name": "ipython",
    "version": 3
   },
   "file_extension": ".py",
   "mimetype": "text/x-python",
   "name": "python",
   "nbconvert_exporter": "python",
   "pygments_lexer": "ipython3",
   "version": "3.8.16"
  },
  "orig_nbformat": 4
 },
 "nbformat": 4,
 "nbformat_minor": 2
}
