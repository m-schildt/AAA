{
 "cells": [
  {
   "attachments": {},
   "cell_type": "markdown",
   "metadata": {},
   "source": [
    "## Example calculation of a dose response curve"
   ]
  },
  {
   "attachments": {},
   "cell_type": "markdown",
   "metadata": {},
   "source": [
    "The used code originates from Kobrosly's packages 'Causal Curve' which can be found here:\n",
    "\\ https://github.com/ronikobrosly/causal-curve\n",
    "\\\n",
    "\\\n",
    "Parts of the package have be taken apart to understand and demontrate how they are working."
   ]
  },
  {
   "attachments": {},
   "cell_type": "markdown",
   "metadata": {},
   "source": [
    "### Preparation"
   ]
  },
  {
   "cell_type": "code",
   "execution_count": 1,
   "metadata": {},
   "outputs": [],
   "source": [
    "import os\n",
    "import warnings; warnings.filterwarnings(\"ignore\")\n",
    "\n",
    "import matplotlib.pyplot as plt\n",
    "import numpy as np\n",
    "import pandas as pd\n",
    "pd.options.mode.chained_assignment = None  # default='warn'\n",
    "from scipy.interpolate import interp1d\n",
    "\n",
    "from causal_curve import GPS_Regressor\n",
    "from causal_curve import Mediation\n",
    "\n",
    "\n",
    "%matplotlib inline\n",
    "pd.options.mode.chained_assignment = None\n",
    "plt.rcParams['figure.dpi'] = 200\n",
    "plt.rcParams['figure.figsize'] = [5, 4]"
   ]
  },
  {
   "cell_type": "code",
   "execution_count": 12,
   "metadata": {},
   "outputs": [],
   "source": [
    "from scipy.stats import gamma, norm\n",
    "import statsmodels.api as sm\n",
    "from statsmodels.genmod.families.links import inverse_power as Inverse_Power\n",
    "from statsmodels.tools.tools import add_constant\n",
    "from pygam import LinearGAM, s\n",
    "import contextlib\n",
    "import io\n",
    "import matplotlib.pyplot as plt"
   ]
  },
  {
   "attachments": {},
   "cell_type": "markdown",
   "metadata": {},
   "source": [
    "load dataset"
   ]
  },
  {
   "cell_type": "code",
   "execution_count": 22,
   "metadata": {},
   "outputs": [],
   "source": [
    "df = pd.read_csv('data/main/data_set.csv')"
   ]
  },
  {
   "cell_type": "code",
   "execution_count": 8,
   "metadata": {},
   "outputs": [
    {
     "data": {
      "text/html": [
       "<div>\n",
       "<style scoped>\n",
       "    .dataframe tbody tr th:only-of-type {\n",
       "        vertical-align: middle;\n",
       "    }\n",
       "\n",
       "    .dataframe tbody tr th {\n",
       "        vertical-align: top;\n",
       "    }\n",
       "\n",
       "    .dataframe thead th {\n",
       "        text-align: right;\n",
       "    }\n",
       "</style>\n",
       "<table border=\"1\" class=\"dataframe\">\n",
       "  <thead>\n",
       "    <tr style=\"text-align: right;\">\n",
       "      <th></th>\n",
       "      <th>company</th>\n",
       "      <th>assets_2018</th>\n",
       "      <th>assets_2019</th>\n",
       "      <th>assets_2020</th>\n",
       "      <th>assets_2021</th>\n",
       "      <th>cash_2018</th>\n",
       "      <th>cash_2019</th>\n",
       "      <th>cash_2020</th>\n",
       "      <th>cash_2021</th>\n",
       "      <th>cash_ratio_2018</th>\n",
       "      <th>...</th>\n",
       "      <th>days_loan_2022</th>\n",
       "      <th>size</th>\n",
       "      <th>industry_1</th>\n",
       "      <th>industry_2</th>\n",
       "      <th>aid_relative_2021</th>\n",
       "      <th>delta_cash_ratio_2021</th>\n",
       "      <th>delta_cash_2021</th>\n",
       "      <th>delta_quick_ratio_2021</th>\n",
       "      <th>delta_current_ratio_2021</th>\n",
       "      <th>delta_equity_ratio_2021</th>\n",
       "    </tr>\n",
       "  </thead>\n",
       "  <tbody>\n",
       "    <tr>\n",
       "      <th>0</th>\n",
       "      <td>\"capillar gmbh\"</td>\n",
       "      <td>2332299.34</td>\n",
       "      <td>NaN</td>\n",
       "      <td>2732777.71</td>\n",
       "      <td>NaN</td>\n",
       "      <td>36787.77</td>\n",
       "      <td>NaN</td>\n",
       "      <td>233693.31</td>\n",
       "      <td>NaN</td>\n",
       "      <td>0.015773</td>\n",
       "      <td>...</td>\n",
       "      <td>NaN</td>\n",
       "      <td>Kleine und mittlere Unternehmen</td>\n",
       "      <td>Handel; Instandhaltung und Reparatur von Kraft...</td>\n",
       "      <td>Einzelhandel (ohne Handel mit Kraftfahrzeugen)</td>\n",
       "      <td>NaN</td>\n",
       "      <td>NaN</td>\n",
       "      <td>NaN</td>\n",
       "      <td>NaN</td>\n",
       "      <td>NaN</td>\n",
       "      <td>NaN</td>\n",
       "    </tr>\n",
       "  </tbody>\n",
       "</table>\n",
       "<p>1 rows × 73 columns</p>\n",
       "</div>"
      ],
      "text/plain": [
       "           company  assets_2018  assets_2019  assets_2020  assets_2021  \\\n",
       "0  \"capillar gmbh\"   2332299.34          NaN   2732777.71          NaN   \n",
       "\n",
       "   cash_2018  cash_2019  cash_2020  cash_2021  cash_ratio_2018  ...  \\\n",
       "0   36787.77        NaN  233693.31        NaN         0.015773  ...   \n",
       "\n",
       "   days_loan_2022                             size  \\\n",
       "0             NaN  Kleine und mittlere Unternehmen   \n",
       "\n",
       "                                          industry_1  \\\n",
       "0  Handel; Instandhaltung und Reparatur von Kraft...   \n",
       "\n",
       "                                       industry_2  aid_relative_2021  \\\n",
       "0  Einzelhandel (ohne Handel mit Kraftfahrzeugen)                NaN   \n",
       "\n",
       "   delta_cash_ratio_2021  delta_cash_2021  delta_quick_ratio_2021  \\\n",
       "0                    NaN              NaN                     NaN   \n",
       "\n",
       "   delta_current_ratio_2021  delta_equity_ratio_2021  \n",
       "0                       NaN                      NaN  \n",
       "\n",
       "[1 rows x 73 columns]"
      ]
     },
     "execution_count": 8,
     "metadata": {},
     "output_type": "execute_result"
    }
   ],
   "source": [
    "df.head(1)"
   ]
  },
  {
   "attachments": {},
   "cell_type": "markdown",
   "metadata": {},
   "source": [
    "Calculation of the delta in aid and for selected ratios between 2020 and 2021"
   ]
  },
  {
   "cell_type": "code",
   "execution_count": 23,
   "metadata": {},
   "outputs": [],
   "source": [
    "df['aid_relative_2021'] = df['aid_grant_2021'] / df['assets_2021']\n",
    "\n",
    "df['delta_cash_ratio_2021'] = (df['cash_ratio_2021'] - df['cash_ratio_2020'])\n",
    "df['delta_cash_2021'] = (df['cash_2021'] - df['cash_2020'])\n",
    "df['delta_quick_ratio_2021'] = (df['quick_ratio_2021'] - df['quick_ratio_2020'])\n",
    "df['delta_current_ratio_2021'] = (df['current_ratio_2021'] - df['current_ratio_2020'])\n",
    "df['delta_equity_ratio_2021'] = (df['equity_ratio_2021'] - df['equity_ratio_2020'])"
   ]
  },
  {
   "attachments": {},
   "cell_type": "markdown",
   "metadata": {},
   "source": [
    "Code for preparing Size of the companies as a dummy variable (Large /SME)"
   ]
  },
  {
   "cell_type": "code",
   "execution_count": 24,
   "metadata": {},
   "outputs": [
    {
     "data": {
      "text/plain": [
       "['size_nur_Großunternehmen']"
      ]
     },
     "execution_count": 24,
     "metadata": {},
     "output_type": "execute_result"
    }
   ],
   "source": [
    "condounders = pd.get_dummies(df[\"size\"], prefix='size', drop_first=True)\n",
    "condounders.columns = condounders.columns.str.replace(' ', '_')\n",
    "list(condounders.columns)"
   ]
  },
  {
   "attachments": {},
   "cell_type": "markdown",
   "metadata": {},
   "source": [
    "Preparing the data:\n",
    "- Replacing NaNs\n",
    "- Adding the dummy variable"
   ]
  },
  {
   "cell_type": "code",
   "execution_count": 48,
   "metadata": {},
   "outputs": [],
   "source": [
    "df = df[['delta_cash_ratio_2021',\n",
    "    'delta_quick_ratio_2021',\n",
    "    'delta_current_ratio_2021',\n",
    "    'delta_equity_ratio_2021',\n",
    "    'debt/asset_ratio_2020',\n",
    "    'cash_ratio_2020', \n",
    "    'size',    \n",
    "    'industry_2',\n",
    "    'delta_cash_2021',\n",
    "    'aid_grant_2021',\n",
    "    'aid_grant_2020',\n",
    "    'aid_loan_2021',\n",
    "    'days_grant_2021',\n",
    "    'aid_loan_2020',\n",
    "    'assets_2020',\n",
    "    'aid_relative_2021']]\n",
    "\n",
    "df['aid_grant_2021'].replace(np.nan, 0, inplace=True)\n",
    "df['aid_loan_2021'].replace(np.nan, 0, inplace=True)\n",
    "df['aid_loan_2020'].replace(np.nan, 0, inplace=True)\n",
    "df['aid_grant_2020'].replace(np.nan, 0, inplace=True)\n",
    "df['assets_2020'].replace(np.nan, 0, inplace=True)\n",
    "df['delta_cash_2021'].replace(np.nan, 0, inplace=True)\n",
    "df['days_grant_2021'].replace(np.nan, 0, inplace=True)\n",
    "df['debt/asset_ratio_2020'].replace(np.nan, 0, inplace=True)\n",
    "\n",
    "final_df = pd.concat([df,pd.get_dummies(df[\"size\"], prefix='size', drop_first=True)],axis = 1)\n",
    "final_df.columns = final_df.columns.str.replace(' ', '_')\n",
    "\n",
    "final_df.replace([np.inf, -np.inf], np.nan, inplace=True)\n",
    "final_df = final_df.dropna()"
   ]
  },
  {
   "attachments": {},
   "cell_type": "markdown",
   "metadata": {},
   "source": [
    "Add more possible confounders into the list: \n",
    "\n",
    "\n",
    "\n",
    "First, the leverage of companies, represented by the debt to asset ratio in 2020.\n",
    "\n",
    "\n",
    "Next, other aid payments which also impacted the liquidity of companies:\n",
    "- loans in 2020 and 2021\n",
    "- grant from the previous year (2020)"
   ]
  },
  {
   "cell_type": "code",
   "execution_count": 49,
   "metadata": {},
   "outputs": [
    {
     "data": {
      "text/plain": [
       "['size_nur_Großunternehmen',\n",
       " 'aid_loan_2021',\n",
       " 'aid_loan_2020',\n",
       " 'aid_grant_2020',\n",
       " 'debt/asset_ratio_2020',\n",
       " 'days_grant_2021']"
      ]
     },
     "execution_count": 49,
     "metadata": {},
     "output_type": "execute_result"
    }
   ],
   "source": [
    "potential_confounders = list(condounders.columns)\n",
    "potential_confounders.append('aid_loan_2021')\n",
    "potential_confounders.append('aid_loan_2020')\n",
    "potential_confounders.append('aid_grant_2020')\n",
    "potential_confounders.append('debt/asset_ratio_2020')\n",
    "potential_confounders.append('days_grant_2021')\n",
    "potential_confounders"
   ]
  },
  {
   "attachments": {},
   "cell_type": "markdown",
   "metadata": {},
   "source": [
    "prepare variables for model:\n",
    "\n",
    "- T: Treatment Variable is the grant in 2021\n",
    "\n",
    "- X: The potential coundounders are used as covariates\n",
    "\n",
    "- y: is the observed Outcome represented by the change in cash"
   ]
  },
  {
   "cell_type": "code",
   "execution_count": 50,
   "metadata": {},
   "outputs": [],
   "source": [
    "T=final_df['aid_grant_2021'] \n",
    "X=final_df[potential_confounders]\n",
    "y=final_df['delta_cash_2021']"
   ]
  },
  {
   "attachments": {},
   "cell_type": "markdown",
   "metadata": {},
   "source": [
    "### Calculate GPS"
   ]
  },
  {
   "attachments": {},
   "cell_type": "markdown",
   "metadata": {},
   "source": [
    "Create probability density function for GPS based on linear/gaussian GLM"
   ]
  },
  {
   "cell_type": "code",
   "execution_count": 51,
   "metadata": {},
   "outputs": [],
   "source": [
    "\"\"\"Models the GPS using a GLM of the Gaussian family\"\"\"\n",
    "normal_gps_model = sm.GLM(T, add_constant(X), family=sm.families.Gaussian()).fit()\n",
    "\n",
    "pred_treat = normal_gps_model.fittedvalues\n",
    "sigma = np.std(normal_gps_model.resid_response)\n",
    "\n",
    "def gps_function(treatment_val, pred_treat=pred_treat, sigma=sigma):\n",
    "    return norm.pdf(treatment_val, pred_treat, sigma)"
   ]
  },
  {
   "attachments": {},
   "cell_type": "markdown",
   "metadata": {},
   "source": [
    "Estimate the Generalized propensity scores"
   ]
  },
  {
   "cell_type": "code",
   "execution_count": 52,
   "metadata": {},
   "outputs": [],
   "source": [
    "gps = gps_function(T)"
   ]
  },
  {
   "attachments": {},
   "cell_type": "markdown",
   "metadata": {},
   "source": [
    "For 3922 observations (Aid payments for companies) were Generalized propensity scores were calculated"
   ]
  },
  {
   "cell_type": "code",
   "execution_count": 108,
   "metadata": {},
   "outputs": [
    {
     "data": {
      "text/plain": [
       "(3922,)"
      ]
     },
     "execution_count": 108,
     "metadata": {},
     "output_type": "execute_result"
    }
   ],
   "source": [
    "gps.shape"
   ]
  },
  {
   "attachments": {},
   "cell_type": "markdown",
   "metadata": {},
   "source": [
    "### Run a GAM on the outcome and the treatment + GPS "
   ]
  },
  {
   "attachments": {},
   "cell_type": "markdown",
   "metadata": {},
   "source": [
    "Create generalized additive model (GAM) that predicts outcome from the treatment and GPS"
   ]
  },
  {
   "cell_type": "code",
   "execution_count": 98,
   "metadata": {},
   "outputs": [],
   "source": [
    "X_GAM = np.column_stack((T.values, gps))\n",
    "y_GAM = np.asarray(y)\n",
    "\n",
    "n_splines=30\n",
    "spline_order=3\n",
    "max_iter=100\n",
    "lambda_=0.5\n",
    "\n",
    "gam_results = LinearGAM(s(0,n_splines=n_splines, spline_order=spline_order) \n",
    "                        + s(1,n_splines=n_splines, spline_order=spline_order),\n",
    "                        max_iter=max_iter,\n",
    "                        lam=lambda_\n",
    "                        ).fit(X_GAM, y_GAM)"
   ]
  },
  {
   "attachments": {},
   "cell_type": "markdown",
   "metadata": {},
   "source": [
    "### Estimation of the causal dose response at different levels"
   ]
  },
  {
   "attachments": {},
   "cell_type": "markdown",
   "metadata": {},
   "source": [
    "Preparation: \n",
    "- treatment_grid_num: The the causal response will be estimates at 100 levels\n",
    "- lower-/ upper_grid_constraint: truncates the lowest 1 % and the highes 10 % to remove extreme observations\n",
    "- grid_values: array with the 100 defined levels\n",
    "- gps_at_grid: array of shape (n_samples, treatment_grid_num)"
   ]
  },
  {
   "cell_type": "code",
   "execution_count": 117,
   "metadata": {},
   "outputs": [],
   "source": [
    "treatment_grid_num = 100\n",
    "lower_grid_constraint = 0.01\n",
    "upper_grid_constraint = 0.90\n",
    "grid_values = np.quantile(T,q=np.linspace(start=lower_grid_constraint,\n",
    "                                          stop=upper_grid_constraint,\n",
    "                                          num=treatment_grid_num,),)\n",
    "\n",
    "gps_at_grid = np.zeros((len(T), treatment_grid_num), dtype=float)"
   ]
  },
  {
   "attachments": {},
   "cell_type": "markdown",
   "metadata": {},
   "source": [
    "Fill the Grid with GPS"
   ]
  },
  {
   "cell_type": "code",
   "execution_count": 119,
   "metadata": {},
   "outputs": [],
   "source": [
    "for i in range(0, treatment_grid_num):\n",
    "    gps_at_grid[:, i] = gps_function(grid_values[i])"
   ]
  },
  {
   "attachments": {},
   "cell_type": "markdown",
   "metadata": {},
   "source": [
    "Predictions using the original treatment and gps_at_grid:"
   ]
  },
  {
   "cell_type": "code",
   "execution_count": 122,
   "metadata": {},
   "outputs": [],
   "source": [
    "## Explanation from the author (Roni Kobrosly)\n",
    "# To keep track of cdrc predictions, we create an empty 3d array of shape\n",
    "# (n_samples, treatment_grid_num, 3). The last dimension is of length 3 because\n",
    "# we are going to keep track of the point estimate of the prediction, as well as\n",
    "# the lower and upper bounds of the prediction interval\n",
    "cdrc_preds = np.zeros((len(T), treatment_grid_num, 3), dtype=float)\n",
    "\n",
    "\n",
    "# Loop through each of the grid values, predict point estimate and get prediction interval\n",
    "for i in range(0, treatment_grid_num):\n",
    "    temp_T = np.repeat(grid_values[i], repeats=len(T))\n",
    "    temp_gps = gps_at_grid[:, i]\n",
    "    temp_cdrc_preds = gam_results.predict(\n",
    "        np.column_stack((temp_T, temp_gps))\n",
    "    )\n",
    "    temp_cdrc_interval = gam_results.confidence_intervals(\n",
    "        np.column_stack((temp_T, temp_gps)), width=0.95 # Confidence intercall\n",
    "    )\n",
    "    temp_cdrc_lower_bound = temp_cdrc_interval[:, 0]\n",
    "    temp_cdrc_upper_bound = temp_cdrc_interval[:, 1]\n",
    "    cdrc_preds[:, i, 0] = temp_cdrc_preds\n",
    "    cdrc_preds[:, i, 1] = temp_cdrc_lower_bound\n",
    "    cdrc_preds[:, i, 2] = temp_cdrc_upper_bound\n",
    "\n",
    "cdrc_preds = np.round(cdrc_preds, 3)"
   ]
  },
  {
   "attachments": {},
   "cell_type": "markdown",
   "metadata": {},
   "source": [
    "The predictions and the CIs are then stored into a dataframe:"
   ]
  },
  {
   "cell_type": "code",
   "execution_count": 123,
   "metadata": {},
   "outputs": [],
   "source": [
    "results = []\n",
    "\n",
    "for i in range(0, treatment_grid_num):\n",
    "    temp_grid_value = grid_values[i]\n",
    "    temp_point_estimate = cdrc_preds[:, i, 0].mean()\n",
    "    mean_ci_width = (\n",
    "        cdrc_preds[:, i, 2].mean() - cdrc_preds[:, i, 1].mean()) / 2\n",
    "    temp_lower_bound = temp_point_estimate - mean_ci_width\n",
    "    temp_upper_bound = temp_point_estimate + mean_ci_width\n",
    "    results.append(\n",
    "        [\n",
    "            temp_grid_value,\n",
    "            temp_point_estimate,\n",
    "            temp_lower_bound,\n",
    "            temp_upper_bound,\n",
    "        ])\n",
    "\n",
    "outcome_name = \"Causal_Dose_Response\"\n",
    "results = pd.DataFrame(results, columns=[\"Treatment\", outcome_name, \"Lower_CI\", \"Upper_CI\"]).round(3)"
   ]
  },
  {
   "attachments": {},
   "cell_type": "markdown",
   "metadata": {},
   "source": [
    "Predictions of causal dose response curve for each value of the treatment grid:"
   ]
  },
  {
   "cell_type": "code",
   "execution_count": 125,
   "metadata": {},
   "outputs": [
    {
     "data": {
      "text/html": [
       "<div>\n",
       "<style scoped>\n",
       "    .dataframe tbody tr th:only-of-type {\n",
       "        vertical-align: middle;\n",
       "    }\n",
       "\n",
       "    .dataframe tbody tr th {\n",
       "        vertical-align: top;\n",
       "    }\n",
       "\n",
       "    .dataframe thead th {\n",
       "        text-align: right;\n",
       "    }\n",
       "</style>\n",
       "<table border=\"1\" class=\"dataframe\">\n",
       "  <thead>\n",
       "    <tr style=\"text-align: right;\">\n",
       "      <th></th>\n",
       "      <th>Treatment</th>\n",
       "      <th>Causal_Dose_Response</th>\n",
       "      <th>Lower_CI</th>\n",
       "      <th>Upper_CI</th>\n",
       "    </tr>\n",
       "  </thead>\n",
       "  <tbody>\n",
       "    <tr>\n",
       "      <th>0</th>\n",
       "      <td>100995.705</td>\n",
       "      <td>46371.624</td>\n",
       "      <td>-13995.533</td>\n",
       "      <td>106738.782</td>\n",
       "    </tr>\n",
       "    <tr>\n",
       "      <th>1</th>\n",
       "      <td>102236.858</td>\n",
       "      <td>46312.367</td>\n",
       "      <td>-13576.058</td>\n",
       "      <td>106200.792</td>\n",
       "    </tr>\n",
       "    <tr>\n",
       "      <th>2</th>\n",
       "      <td>103569.797</td>\n",
       "      <td>46256.445</td>\n",
       "      <td>-13132.365</td>\n",
       "      <td>105645.255</td>\n",
       "    </tr>\n",
       "    <tr>\n",
       "      <th>3</th>\n",
       "      <td>105462.905</td>\n",
       "      <td>46192.023</td>\n",
       "      <td>-12513.672</td>\n",
       "      <td>104897.718</td>\n",
       "    </tr>\n",
       "    <tr>\n",
       "      <th>4</th>\n",
       "      <td>107004.114</td>\n",
       "      <td>46153.693</td>\n",
       "      <td>-12019.086</td>\n",
       "      <td>104326.471</td>\n",
       "    </tr>\n",
       "  </tbody>\n",
       "</table>\n",
       "</div>"
      ],
      "text/plain": [
       "    Treatment  Causal_Dose_Response   Lower_CI    Upper_CI\n",
       "0  100995.705             46371.624 -13995.533  106738.782\n",
       "1  102236.858             46312.367 -13576.058  106200.792\n",
       "2  103569.797             46256.445 -13132.365  105645.255\n",
       "3  105462.905             46192.023 -12513.672  104897.718\n",
       "4  107004.114             46153.693 -12019.086  104326.471"
      ]
     },
     "execution_count": 125,
     "metadata": {},
     "output_type": "execute_result"
    }
   ],
   "source": [
    "results.head(5)"
   ]
  },
  {
   "attachments": {},
   "cell_type": "markdown",
   "metadata": {},
   "source": [
    "### Plotting the dose response curve"
   ]
  },
  {
   "cell_type": "code",
   "execution_count": 102,
   "metadata": {},
   "outputs": [
    {
     "data": {
      "image/png": "[encoded data removed]",
      "text/plain": [
       "<Figure size 1200x1000 with 1 Axes>"
      ]
     },
     "metadata": {},
     "output_type": "display_data"
    }
   ],
   "source": [
    "treat = results['Treatment']\n",
    "mean = results['Causal_Dose_Response']\n",
    "lb = results['Lower_CI']\n",
    "ub = results['Upper_CI']\n",
    "plt.rcParams['figure.dpi'] = 200\n",
    "plt.rcParams['figure.figsize'] = [6, 5]\n",
    "fig, axs = plt.subplots()\n",
    "axs.fill_between(treat, lb, ub, alpha=0.3)\n",
    "axs.plot(treat, mean, linewidth=0.75)\n",
    "axs.spines[\"top\"].set_visible(False)\n",
    "axs.spines[\"right\"].set_visible(False)\n",
    "axs.set_ylabel('Change in Cash', fontsize = 8)\n",
    "axs.set_xlabel('Grant in EUR', fontsize = 8)\n",
    "axs.tick_params(axis='both', which='major', labelsize=6)"
   ]
  }
 ],
 "metadata": {
  "kernelspec": {
   "display_name": "Python 3",
   "language": "python",
   "name": "python3"
  },
  "language_info": {
   "codemirror_mode": {
    "name": "ipython",
    "version": 3
   },
   "file_extension": ".py",
   "mimetype": "text/x-python",
   "name": "python",
   "nbconvert_exporter": "python",
   "pygments_lexer": "ipython3",
   "version": "3.9.16"
  },
  "orig_nbformat": 4
 },
 "nbformat": 4,
 "nbformat_minor": 2
}
