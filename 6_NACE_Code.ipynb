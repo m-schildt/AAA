{
 "cells": [
  {
   "cell_type": "code",
   "execution_count": 6,
   "metadata": {},
   "outputs": [],
   "source": [
    "#url = 'https://www.klassifikationsserver.de/klassService/jsp/variant/downloadexport?type=EXPORT_CSV_GROUPING&variant=wz2008&language=DE'\n",
    "import pandas as pd\n",
    "import re\n",
    "import numpy as np"
   ]
  },
  {
   "cell_type": "code",
   "execution_count": 168,
   "metadata": {},
   "outputs": [],
   "source": [
    "code_list = pd.read_csv('WZ_2008-DE-2023-04-11-Gliederung.csv',encoding='utf-8-sig', delimiter=';')"
   ]
  },
  {
   "cell_type": "code",
   "execution_count": 169,
   "metadata": {},
   "outputs": [
    {
     "data": {
      "text/html": [
       "<div>\n",
       "<style scoped>\n",
       "    .dataframe tbody tr th:only-of-type {\n",
       "        vertical-align: middle;\n",
       "    }\n",
       "\n",
       "    .dataframe tbody tr th {\n",
       "        vertical-align: top;\n",
       "    }\n",
       "\n",
       "    .dataframe thead th {\n",
       "        text-align: right;\n",
       "    }\n",
       "</style>\n",
       "<table border=\"1\" class=\"dataframe\">\n",
       "  <thead>\n",
       "    <tr style=\"text-align: right;\">\n",
       "      <th></th>\n",
       "      <th>Klassifikation der Wirtschaftszweige, Ausgabe 2008</th>\n",
       "      <th>Unnamed: 1</th>\n",
       "      <th>Unnamed: 2</th>\n",
       "      <th>Unnamed: 3</th>\n",
       "    </tr>\n",
       "  </thead>\n",
       "  <tbody>\n",
       "    <tr>\n",
       "      <th>8</th>\n",
       "      <td>A</td>\n",
       "      <td>1</td>\n",
       "      <td>Land- und Forstwirtschaft, Fischerei</td>\n",
       "      <td>Land- und Forstwirtschaft, Fischerei</td>\n",
       "    </tr>\n",
       "    <tr>\n",
       "      <th>9</th>\n",
       "      <td>01</td>\n",
       "      <td>2</td>\n",
       "      <td>Landwirtschaft, Jagd und damit verbundene Täti...</td>\n",
       "      <td>Land- und Forstwirtschaft, Fischerei</td>\n",
       "    </tr>\n",
       "    <tr>\n",
       "      <th>10</th>\n",
       "      <td>01.1</td>\n",
       "      <td>3</td>\n",
       "      <td>Anbau einjähriger Pflanzen</td>\n",
       "      <td>Land- und Forstwirtschaft, Fischerei</td>\n",
       "    </tr>\n",
       "    <tr>\n",
       "      <th>11</th>\n",
       "      <td>01.11</td>\n",
       "      <td>4</td>\n",
       "      <td>Anbau von Getreide (ohne Reis), Hülsenfrüchten...</td>\n",
       "      <td>Land- und Forstwirtschaft, Fischerei</td>\n",
       "    </tr>\n",
       "    <tr>\n",
       "      <th>12</th>\n",
       "      <td>01.11.0</td>\n",
       "      <td>5</td>\n",
       "      <td>Anbau von Getreide (ohne Reis), Hülsenfrüchten...</td>\n",
       "      <td>Land- und Forstwirtschaft, Fischerei</td>\n",
       "    </tr>\n",
       "    <tr>\n",
       "      <th>...</th>\n",
       "      <td>...</td>\n",
       "      <td>...</td>\n",
       "      <td>...</td>\n",
       "      <td>...</td>\n",
       "    </tr>\n",
       "    <tr>\n",
       "      <th>1838</th>\n",
       "      <td>U</td>\n",
       "      <td>1</td>\n",
       "      <td>Exterritoriale Organisationen und Körperschaften</td>\n",
       "      <td>Exterritoriale Organisationen und Körperschaften</td>\n",
       "    </tr>\n",
       "    <tr>\n",
       "      <th>1839</th>\n",
       "      <td>99</td>\n",
       "      <td>2</td>\n",
       "      <td>Exterritoriale Organisationen und Körperschaften</td>\n",
       "      <td>Exterritoriale Organisationen und Körperschaften</td>\n",
       "    </tr>\n",
       "    <tr>\n",
       "      <th>1840</th>\n",
       "      <td>99.0</td>\n",
       "      <td>3</td>\n",
       "      <td>Exterritoriale Organisationen und Körperschaften</td>\n",
       "      <td>Exterritoriale Organisationen und Körperschaften</td>\n",
       "    </tr>\n",
       "    <tr>\n",
       "      <th>1841</th>\n",
       "      <td>99.00</td>\n",
       "      <td>4</td>\n",
       "      <td>Exterritoriale Organisationen und Körperschaften</td>\n",
       "      <td>Exterritoriale Organisationen und Körperschaften</td>\n",
       "    </tr>\n",
       "    <tr>\n",
       "      <th>1842</th>\n",
       "      <td>99.00.0</td>\n",
       "      <td>5</td>\n",
       "      <td>Exterritoriale Organisationen und Körperschaften</td>\n",
       "      <td>Exterritoriale Organisationen und Körperschaften</td>\n",
       "    </tr>\n",
       "  </tbody>\n",
       "</table>\n",
       "<p>1835 rows × 4 columns</p>\n",
       "</div>"
      ],
      "text/plain": [
       "     Klassifikation der Wirtschaftszweige, Ausgabe 2008 Unnamed: 1  \\\n",
       "8                                                     A          1   \n",
       "9                                                    01          2   \n",
       "10                                                 01.1          3   \n",
       "11                                                01.11          4   \n",
       "12                                              01.11.0          5   \n",
       "...                                                 ...        ...   \n",
       "1838                                                  U          1   \n",
       "1839                                                 99          2   \n",
       "1840                                               99.0          3   \n",
       "1841                                              99.00          4   \n",
       "1842                                            99.00.0          5   \n",
       "\n",
       "                                             Unnamed: 2  \\\n",
       "8                  Land- und Forstwirtschaft, Fischerei   \n",
       "9     Landwirtschaft, Jagd und damit verbundene Täti...   \n",
       "10                           Anbau einjähriger Pflanzen   \n",
       "11    Anbau von Getreide (ohne Reis), Hülsenfrüchten...   \n",
       "12    Anbau von Getreide (ohne Reis), Hülsenfrüchten...   \n",
       "...                                                 ...   \n",
       "1838   Exterritoriale Organisationen und Körperschaften   \n",
       "1839   Exterritoriale Organisationen und Körperschaften   \n",
       "1840   Exterritoriale Organisationen und Körperschaften   \n",
       "1841   Exterritoriale Organisationen und Körperschaften   \n",
       "1842   Exterritoriale Organisationen und Körperschaften   \n",
       "\n",
       "                                            Unnamed: 3  \n",
       "8                 Land- und Forstwirtschaft, Fischerei  \n",
       "9                 Land- und Forstwirtschaft, Fischerei  \n",
       "10                Land- und Forstwirtschaft, Fischerei  \n",
       "11                Land- und Forstwirtschaft, Fischerei  \n",
       "12                Land- und Forstwirtschaft, Fischerei  \n",
       "...                                                ...  \n",
       "1838  Exterritoriale Organisationen und Körperschaften  \n",
       "1839  Exterritoriale Organisationen und Körperschaften  \n",
       "1840  Exterritoriale Organisationen und Körperschaften  \n",
       "1841  Exterritoriale Organisationen und Körperschaften  \n",
       "1842  Exterritoriale Organisationen und Körperschaften  \n",
       "\n",
       "[1835 rows x 4 columns]"
      ]
     },
     "execution_count": 169,
     "metadata": {},
     "output_type": "execute_result"
    }
   ],
   "source": [
    "code_list = code_list.iloc[8:]\n",
    "code_list['Unnamed: 3'] = np.where(code_list['Unnamed: 1'] == '1', code_list['Unnamed: 2'],np.NaN)\n",
    "code_list['Unnamed: 3'] = code_list['Unnamed: 3'].fillna(method='ffill')\n",
    "code_list"
   ]
  },
  {
   "cell_type": "code",
   "execution_count": 176,
   "metadata": {},
   "outputs": [],
   "source": [
    "def search_nace(code):\n",
    "    search = code_list[code_list[\"Unnamed: 2\"] == code].iloc[:1,0]\n",
    "    search = search.values[0]\n",
    "    search = search.split(\".\")[0]\n",
    "\n",
    "    result_lv2 = code_list[code_list['Klassifikation der Wirtschaftszweige, Ausgabe 2008'] == search].iloc[:1,2].values[0]\n",
    "\n",
    "    result_lv1 = code_list[code_list[\"Unnamed: 2\"] == code].iloc[:1,3].values[0]\n",
    "\n",
    "    return result_lv1, result_lv2"
   ]
  },
  {
   "cell_type": "code",
   "execution_count": 177,
   "metadata": {},
   "outputs": [
    {
     "data": {
      "text/plain": [
       "('Land- und Forstwirtschaft, Fischerei',\n",
       " 'Landwirtschaft, Jagd und damit verbundene Tätigkeiten')"
      ]
     },
     "execution_count": 177,
     "metadata": {},
     "output_type": "execute_result"
    }
   ],
   "source": [
    "search_nace('Anbau einjähriger Pflanzen')"
   ]
  },
  {
   "cell_type": "code",
   "execution_count": 137,
   "metadata": {},
   "outputs": [
    {
     "data": {
      "text/plain": [
       "('Wett-, Toto- und Lotteriewesen',\n",
       " 'Erbringung von Dienstleistungen des Sports, der Unterhaltung und der Erholung')"
      ]
     },
     "execution_count": 137,
     "metadata": {},
     "output_type": "execute_result"
    }
   ],
   "source": [
    "search_nace('Fitnesszentren')"
   ]
  },
  {
   "cell_type": "code",
   "execution_count": 138,
   "metadata": {},
   "outputs": [
    {
     "data": {
      "text/plain": [
       "('Errichtung von Fertigteilbauten', 'Tiefbau')"
      ]
     },
     "execution_count": 138,
     "metadata": {},
     "output_type": "execute_result"
    }
   ],
   "source": [
    "def search_nace(code):\n",
    "\n",
    "    try:\n",
    "        search = code_list[code_list[\"Unnamed: 2\"] == code].iloc[:1,0]\n",
    "        search = search.values[0]\n",
    "        search = search.split(\".\")[0]\n",
    "\n",
    "        result_lv2 = code_list[code_list['Klassifikation der Wirtschaftszweige, Ausgabe 2008'] == search].iloc[:1,2].values[0]\n",
    "\n",
    "        index = code_list[code_list['Klassifikation der Wirtschaftszweige, Ausgabe 2008'] == search].index.values[0] - 1\n",
    "\n",
    "        result_lv1 = code_list[code_list.index == index].iloc[:1,2].values[0]\n",
    "\n",
    "        return result_lv1, result_lv2\n",
    "    except:\n",
    "        return code\n",
    "\n",
    "search_nace('Bau von Straßen und Bahnverkehrsstrecken')"
   ]
  }
 ],
 "metadata": {
  "kernelspec": {
   "display_name": "Python 3",
   "language": "python",
   "name": "python3"
  },
  "language_info": {
   "codemirror_mode": {
    "name": "ipython",
    "version": 3
   },
   "file_extension": ".py",
   "mimetype": "text/x-python",
   "name": "python",
   "nbconvert_exporter": "python",
   "pygments_lexer": "ipython3",
   "version": "3.9.16"
  },
  "orig_nbformat": 4
 },
 "nbformat": 4,
 "nbformat_minor": 2
}
